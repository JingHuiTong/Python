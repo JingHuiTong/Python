{
 "cells": [
  {
   "cell_type": "code",
   "execution_count": 2,
   "id": "b6f89680",
   "metadata": {},
   "outputs": [],
   "source": [
    "from obspy.taup import plot_travel_times\n",
    "import matplotlib.pyplot as plt\n",
    "from obspy.clients.fdsn.client import Client\n",
    "from obspy import UTCDateTime\n",
    "import pandas as pd\n",
    "from obspy.taup import TauPyModel"
   ]
  },
  {
   "cell_type": "code",
   "execution_count": 15,
   "id": "780ccfa4",
   "metadata": {},
   "outputs": [
    {
     "name": "stdout",
     "output_type": "stream",
     "text": [
      "There were 0 epicentral distances without an arrival\n"
     ]
    },
    {
     "data": {
      "image/png": "[encoded data removed]",
      "text/plain": [
       "<Figure size 432x576 with 1 Axes>"
      ]
     },
     "metadata": {
      "needs_background": "light"
     },
     "output_type": "display_data"
    }
   ],
   "source": [
    "fig, ax = plt.subplots(figsize=(6, 8))\n",
    "ax = plot_travel_times(source_depth=10,\n",
    "                       ax=ax, fig=fig, verbose=True,phase_list=['S','ScS','SKS','SKKS','sSKS'])\n"
   ]
  },
  {
   "cell_type": "markdown",
   "id": "e42069ed-1ec6-4d1b-81d2-4b3e5d2694e2",
   "metadata": {},
   "source": [
    "## 2010-2015/10"
   ]
  },
  {
   "cell_type": "code",
   "execution_count": 4,
   "id": "29a13c26",
   "metadata": {},
   "outputs": [
    {
     "data": {
      "text/plain": [
       "44"
      ]
     },
     "execution_count": 4,
     "metadata": {},
     "output_type": "execute_result"
    }
   ],
   "source": [
    "client = Client(\"IRIS\")\n",
    "# t1 = UTCDateTime(\"2010-10-01T00:00:00\")\n",
    "t1 = UTCDateTime(\"2010-10-01T01:00:00\")\n",
    "t2 = UTCDateTime(\"2015-09-30T01:00:00\")\n",
    "Cata= client.get_events(starttime=t1, endtime=t2, minmagnitude=7,latitude =41.115,longitude=43.8036,\n",
    "                        minradius=100,maxradius=145,maxdepth=1000,orderby='time-asc')\n",
    "len(Cata)"
   ]
  },
  {
   "cell_type": "markdown",
   "id": "c2a8a404-f4ae-4f24-83c8-6661278c0b8b",
   "metadata": {},
   "source": [
    "## 2015/10-2021/06/30"
   ]
  },
  {
   "cell_type": "code",
   "execution_count": 14,
   "id": "14eece1f-8346-41bf-ba66-8f2ac0cd0b42",
   "metadata": {},
   "outputs": [],
   "source": [
    "client = Client(\"IRIS\")\n",
    "# t1 = UTCDateTime(\"2010-10-01T00:00:00\")\n",
    "t1 = UTCDateTime(\"2015-10-01T00:00:00\")\n",
    "t2 = UTCDateTime(\"2021-06-30T23:59:59\")\n",
    "Cata= client.get_events(starttime=t1, endtime=t2, minmagnitude=6,latitude =41.115,longitude=43.8036,\n",
    "                        minradius=80,maxradius=155,orderby='time-asc')\n",
    "# len(Cata)"
   ]
  },
  {
   "cell_type": "code",
   "execution_count": 16,
   "id": "76dde021",
   "metadata": {},
   "outputs": [],
   "source": [
    "frame={'Time':[],'Lon':[],\"Lat\":[],'Mag':[],\"Depth\":[],\"Description\":[]}\n",
    "for cat in Cata:\n",
    "    time=v=cat.origins[0].time\n",
    "    lon=cat.origins[0].longitude\n",
    "    lat=cat.origins[0].latitude\n",
    "    mag=cat.magnitudes[0].mag\n",
    "    depth=cat.origins[0].depth\n",
    "    description=cat.event_descriptions[0].text\n",
    "    frame['Time'].append(time)\n",
    "    frame['Lon'].append(lon)\n",
    "    frame['Lat'].append(lat)\n",
    "    frame['Mag'].append(mag)\n",
    "    frame['Depth'].append(depth)\n",
    "    frame['Description'].append(description)\n",
    "    "
   ]
  },
  {
   "cell_type": "code",
   "execution_count": 17,
   "id": "24d58b06",
   "metadata": {},
   "outputs": [],
   "source": [
    "Catalog=pd.DataFrame(data=frame)\n",
    "Data_path='/Volumes/home/Research/DataBase'\n",
    "Catalog.to_csv(f'{Data_path}/Earthquake_4SKS_2015-2021.txt',sep='\\t', index=False)\n",
    "Catalog.to_csv(f'{Data_path}/Earthquake_4SKS_2015-2021.csv', index=False)"
   ]
  },
  {
   "cell_type": "code",
   "execution_count": null,
   "id": "e8d280ec-9c85-4016-9a64-1566d9403f58",
   "metadata": {},
   "outputs": [],
   "source": []
  }
 ],
 "metadata": {
  "kernelspec": {
   "display_name": "Python 3",
   "language": "python",
   "name": "python3"
  },
  "language_info": {
   "codemirror_mode": {
    "name": "ipython",
    "version": 3
   },
   "file_extension": ".py",
   "mimetype": "text/x-python",
   "name": "python",
   "nbconvert_exporter": "python",
   "pygments_lexer": "ipython3",
   "version": "3.8.8"
  }
 },
 "nbformat": 4,
 "nbformat_minor": 5
}
