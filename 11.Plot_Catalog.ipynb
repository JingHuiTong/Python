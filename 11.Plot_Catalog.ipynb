{
 "cells": [
  {
   "cell_type": "code",
   "execution_count": 1,
   "id": "3c4113e4-c23c-47d5-92ad-fb3a9749e46d",
   "metadata": {},
   "outputs": [],
   "source": [
    "import numpy as np\n",
    "from stdb import load_db \n",
    "import matplotlib.pyplot as plt\n",
    "import pandas as pd\n",
    "import pickle\n",
    "import glob, os\n",
    "import warnings  \n",
    "from obspy.geodetics.base import gps2dist_azimuth\n",
    "from obspy.core.event.catalog import read_events\n",
    "warnings.filterwarnings(\"ignore\")  \n",
    "from  PlotCatalog import plot_nonnull_average, plot_null_PCA09, plot_null_PCA_angle_small,plot_null_PCA_angle_large, plot_null_angle\n",
    "                \n"
   ]
  },
  {
   "cell_type": "code",
   "execution_count": 2,
   "id": "5e3e8737-032a-443b-a6a3-316adb18f5d2",
   "metadata": {},
   "outputs": [],
   "source": [
    "PKLpath = '/Volumes/home/Research/STEP/01_Split'\n",
    "Path = '/Volumes/home/Research/STEP/02_Station_result_csv'\n",
    "phase = 'SKS'\n",
    "# MAG = 6\n",
    "notplotLIST = ['TRLG','BRNG','GUDG']\n",
    "\n",
    "SAVEpath = '/Volumes/home/Research/STEP/05_Station_result_statistics'\n",
    "YearRange= '2010-2020'\n",
    "# RElook = ['URAV','TRLT','AMBR','ABST','KIV','GUDG','ZARN','KECH','GERK','BYUR']\n",
    "# RElook = ['BYUR','ARZA','GERK','NAVR','SHEN','TSAP','GANZ']\n",
    "RElook = ['GNI']\n",
    "ver= 4"
   ]
  },
  {
   "cell_type": "code",
   "execution_count": 3,
   "id": "2cd97c5a-23fc-4bd3-b1e8-1628bbe571bf",
   "metadata": {
    "tags": []
   },
   "outputs": [
    {
     "name": "stdout",
     "output_type": "stream",
     "text": [
      "IU.GNI\n",
      "\n",
      "\n",
      "\n",
      "\n",
      "\n",
      "\n",
      "105\n",
      "20160804_141513\n",
      "20181211_022632\n",
      "20190301_085042\n",
      "20110306_123158\n",
      "20120802_093831\n",
      "20150211_185720\n",
      "20150610_135208\n",
      "20130514_003226\n",
      "20140218_092714\n",
      "20141206_220510\n",
      "20110824_174611\n",
      "20160804_141513\n",
      "20170415_081943\n",
      "20180121_010642\n",
      "20180907_021204\n",
      "20190503_072529\n",
      "20200531_050938\n",
      "20200603_073534\n",
      "20200613_210830\n",
      "57.9251634873 9.27931082669 0.628522862825 0.203707329029 57.8604217049 7.8779206869 0.692162191416 0.187039184423 86 19\n"
     ]
    },
    {
     "name": "stderr",
     "output_type": "stream",
     "text": [
      "coast [WARNING]: Fill/clip continent option (-G) may not work for this projection.\n",
      "coast [WARNING]: If the antipode (0/1) is in the ocean then chances are good it will work.\n",
      "coast [WARNING]: Otherwise, avoid projection center coordinates that are exact multiples of 224 degrees.\n"
     ]
    }
   ],
   "source": [
    "allSTA = {'Station':[],\n",
    "         'RCphi':[],'RCdphi':[],\n",
    "         'RCdt':[],'RCddt':[],\n",
    "         'SCphi':[],'SCdphi':[],\n",
    "         'SCdt':[],'SCddt':[],\n",
    "         'nonNull':[],'Null':[]}\n",
    "\n",
    "# allSTA = {'Station':[],'Number':[]}\n",
    "for relook in RElook:\n",
    "    \n",
    "    for STApath in glob.glob(f'{PKLpath}/*{relook}.pkl'):\n",
    "        STApkl = pickle.load(open(STApath, \"rb\"))\n",
    "        values = [value for keys, value in STApkl.items() ][0]\n",
    "\n",
    "        NET = values['network']; STA = values['station']\n",
    "        print(f'{NET}.{STA}')    \n",
    "        if not os.path.isdir(f'{SAVEpath}/{NET}.{STA}'):\n",
    "            os.mkdir(f'{SAVEpath}/{NET}.{STA}')\n",
    "        allSTA['Station'].append(f'{NET}.{STA}')\n",
    "        stlat = values['latitude']; stlon = values['longitude']\n",
    "\n",
    "        newdf = pd.DataFrame()\n",
    "        for csvpath in glob.glob(f'{Path}/*SKS/{NET}*{STA}*.csv'):\n",
    "    #         print(csvpath)\n",
    "            df = pd.read_csv(csvpath)\n",
    "            print()\n",
    "            df = df[df['Phase']==phase][df['SNRQ']>=5][df['Pick']==True]#[df['Mag']<7]\n",
    "            newdf = newdf.append(df)\n",
    "\n",
    "        print(len(newdf))\n",
    "        meanphiRC, stdphiRC, meandtRC, stddtRC, meanphiSC, stdphiSC, meandtSC, stddtSC, noNull, noNonNull = plot_nonnull_average(NET, STA, newdf, stlat, stlon, SAVEpath, YearRange, ver)\n",
    "        print(meanphiRC, stdphiRC, meandtRC, stddtRC, meanphiSC, stdphiSC, meandtSC, stddtSC, noNull, noNonNull)\n",
    "        if np.isnan(meanphiRC) == False:\n",
    "            allSTA['RCphi'].append(round(meanphiRC)); allSTA['RCdphi'].append(round(stdphiRC))\n",
    "            allSTA['RCdt'].append(float(round(meandtRC,2))); allSTA['RCddt'].append( float(round(stddtRC,2)))\n",
    "            allSTA['SCphi'].append(round(meanphiSC)); allSTA['SCdphi'].append(round(stdphiSC))\n",
    "            allSTA['SCdt'].append(float(round(meandtSC,2))); allSTA['SCddt'].append( float(round(stddtSC,2)))\n",
    "            allSTA['Null'].append(noNull); allSTA['nonNull'].append(noNonNull)\n",
    "    #         print(meanphiSC)\n",
    "        else: \n",
    "            allSTA['RCphi'].append(meanphiRC); allSTA['RCdphi'].append(stdphiRC)\n",
    "            allSTA['RCdt'].append(meandtRC); allSTA['RCddt'].append(stddtRC)\n",
    "            allSTA['SCphi'].append(meanphiSC); allSTA['SCdphi'].append(stdphiSC)\n",
    "            allSTA['SCdt'].append(meandtSC); allSTA['SCddt'].append(stddtSC)\n",
    "            allSTA['Null'].append(noNull); allSTA['nonNull'].append(noNonNull)\n",
    "\n",
    "        plot_null_PCA09(NET, STA, newdf, stlat, stlon, SAVEpath, YearRange, meanphiSC, meandtSC, ver)\n",
    "        plot_null_PCA_angle_small(NET, STA, newdf, stlat, stlon, SAVEpath, YearRange, ver)\n",
    "        plot_null_PCA_angle_large(NET, STA, newdf, stlat, stlon, SAVEpath, YearRange, ver)  \n",
    "        plot_null_angle(NET, STA, newdf, stlat, stlon, SAVEpath, YearRange, ver)  \n",
    "# stadf = pd.DataFrame(allSTA)\n",
    "# stadf.to_csv(f'{SAVEpath}/Station_SKS_{YearRange}average_v3.csv',index=False)\n"
   ]
  },
  {
   "cell_type": "code",
   "execution_count": null,
   "id": "fa342f98-b12e-4645-be41-7bda4ad743d5",
   "metadata": {},
   "outputs": [],
   "source": []
  },
  {
   "cell_type": "code",
   "execution_count": null,
   "id": "89b5aede-4c5b-48ba-a5dc-054f83cc5307",
   "metadata": {},
   "outputs": [],
   "source": []
  }
 ],
 "metadata": {
  "kernelspec": {
   "display_name": "Python 3 (ipykernel)",
   "language": "python",
   "name": "python3"
  },
  "language_info": {
   "codemirror_mode": {
    "name": "ipython",
    "version": 3
   },
   "file_extension": ".py",
   "mimetype": "text/x-python",
   "name": "python",
   "nbconvert_exporter": "python",
   "pygments_lexer": "ipython3",
   "version": "3.9.6"
  }
 },
 "nbformat": 4,
 "nbformat_minor": 5
}
