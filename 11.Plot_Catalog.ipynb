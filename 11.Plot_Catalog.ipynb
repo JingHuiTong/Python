{
 "cells": [
  {
   "cell_type": "code",
   "execution_count": 4,
   "id": "3c4113e4-c23c-47d5-92ad-fb3a9749e46d",
   "metadata": {},
   "outputs": [],
   "source": [
    "import numpy as np\n",
    "from stdb import load_db \n",
    "import matplotlib.pyplot as plt\n",
    "import pandas as pd\n",
    "import pickle\n",
    "import glob, os\n",
    "import warnings  \n",
    "from obspy.geodetics.base import gps2dist_azimuth\n",
    "from obspy.core.event.catalog import read_events\n",
    "warnings.filterwarnings(\"ignore\")  \n",
    "from  PlotCatalog import plot_nonnull_average, plot_null_PCA09, plot_null_PCA_angle_small,plot_null_PCA_angle_large, plot_null_angle\n",
    "                \n"
   ]
  },
  {
   "cell_type": "code",
   "execution_count": 7,
   "id": "5e3e8737-032a-443b-a6a3-316adb18f5d2",
   "metadata": {},
   "outputs": [],
   "source": [
    "PKLpath = '/Volumes/home/Research/STEP/01_Split'\n",
    "Path = '/Volumes/home/Research/STEP/02_Station_result_csv'\n",
    "phase = 'SKS'\n",
    "# MAG = 6\n",
    "notplotLIST = ['TRLG','BRNG','GUDG']\n",
    "\n",
    "SAVEpath = '/Volumes/home/Research/STEP/05_Station_result_statistics'\n",
    "YearRange= '2010-2020'\n",
    "# RElook = ['URAV','TRLT','AMBR','ABST','KIV','GUDG','ZARN','KECH','GERK','BYUR']\n",
    "# RElook = ['BYUR','ARZA','GERK','NAVR','SHEN','TSAP','GANZ']\n",
    "RElook = ['BCA','TASB']\n",
    "ver= 1"
   ]
  },
  {
   "cell_type": "code",
   "execution_count": 8,
   "id": "2cd97c5a-23fc-4bd3-b1e8-1628bbe571bf",
   "metadata": {
    "tags": []
   },
   "outputs": [
    {
     "name": "stdout",
     "output_type": "stream",
     "text": [
      "KO.BCA\n",
      "69\n",
      "20120514_100039\n",
      "20120607_160318\n",
      "20130717_023743\n",
      "20140311_220312\n",
      "20150928_152805\n",
      "20170827_041751\n",
      "20140412_201438\n",
      "20120908_105145\n",
      "20130722_070141\n",
      "20130901_115232\n",
      "20131201_012415\n",
      "20151023_040418\n",
      "44.7094213849 12.5255987881 1.14369510139 0.277975068826 57.7118291087 5.00412156516 1.37721134977 0.151260904106 57 12\n"
     ]
    },
    {
     "name": "stderr",
     "output_type": "stream",
     "text": [
      "coast [WARNING]: Fill/clip continent option (-G) may not work for this projection.\n",
      "coast [WARNING]: If the antipode (0/1) is in the ocean then chances are good it will work.\n",
      "coast [WARNING]: Otherwise, avoid projection center coordinates that are exact multiples of 224 degrees.\n"
     ]
    },
    {
     "name": "stdout",
     "output_type": "stream",
     "text": [
      "KO.TASB\n",
      "45\n",
      "20120514_100039\n",
      "20120728_200359\n",
      "20140315_235132\n",
      "20140629_075256\n",
      "20140924_111613\n",
      "20150216_220054\n",
      "20180907_021204\n",
      "20181115_200222\n",
      "20160212_100224\n",
      "73.9918780029 13.4405125104 0.588344850366 0.289405520949 73.1633084535 10.5226094027 0.531588713459 0.229099148303 36 9\n"
     ]
    },
    {
     "name": "stderr",
     "output_type": "stream",
     "text": [
      "coast [WARNING]: Fill/clip continent option (-G) may not work for this projection.\n",
      "coast [WARNING]: If the antipode (0/1) is in the ocean then chances are good it will work.\n",
      "coast [WARNING]: Otherwise, avoid projection center coordinates that are exact multiples of 224 degrees.\n"
     ]
    }
   ],
   "source": [
    "allSTA = {'Station':[],\n",
    "         'RCphi':[],'RCdphi':[],\n",
    "         'RCdt':[],'RCddt':[],\n",
    "         'SCphi':[],'SCdphi':[],\n",
    "         'SCdt':[],'SCddt':[],\n",
    "         'nonNull':[],'Null':[]}\n",
    "\n",
    "# allSTA = {'Station':[],'Number':[]}\n",
    "for relook in RElook:\n",
    "    \n",
    "    for STApath in glob.glob(f'{PKLpath}/*{relook}.pkl'):\n",
    "        STApkl = pickle.load(open(STApath, \"rb\"))\n",
    "        values = [value for keys, value in STApkl.items() ][0]\n",
    "\n",
    "        NET = values['network']; STA = values['station']\n",
    "        print(f'{NET}.{STA}')    \n",
    "        if not os.path.isdir(f'{SAVEpath}/{NET}.{STA}'):\n",
    "            os.mkdir(f'{SAVEpath}/{NET}.{STA}')\n",
    "        allSTA['Station'].append(f'{NET}.{STA}')\n",
    "        stlat = values['latitude']; stlon = values['longitude']\n",
    "\n",
    "        newdf = pd.DataFrame()\n",
    "        for csvpath in glob.glob(f'{Path}/*SKS_KO/{NET}*{STA}*.csv'):\n",
    "    #         print(csvpath)\n",
    "            df = pd.read_csv(csvpath)\n",
    "#             print()\n",
    "            df = df[df['Phase']==phase][df['SNRQ']>=5][df['Pick']==True]#[df['Mag']<7]\n",
    "            newdf = newdf.append(df)\n",
    "\n",
    "        print(len(newdf))\n",
    "        meanphiRC, stdphiRC, meandtRC, stddtRC, meanphiSC, stdphiSC, meandtSC, stddtSC, noNull, noNonNull = plot_nonnull_average(NET, STA, newdf, stlat, stlon, SAVEpath, YearRange, ver)\n",
    "        print(meanphiRC, stdphiRC, meandtRC, stddtRC, meanphiSC, stdphiSC, meandtSC, stddtSC, noNull, noNonNull)\n",
    "        if np.isnan(meanphiRC) == False:\n",
    "            allSTA['RCphi'].append(round(meanphiRC)); allSTA['RCdphi'].append(round(stdphiRC))\n",
    "            allSTA['RCdt'].append(float(round(meandtRC,2))); allSTA['RCddt'].append( float(round(stddtRC,2)))\n",
    "            allSTA['SCphi'].append(round(meanphiSC)); allSTA['SCdphi'].append(round(stdphiSC))\n",
    "            allSTA['SCdt'].append(float(round(meandtSC,2))); allSTA['SCddt'].append( float(round(stddtSC,2)))\n",
    "            allSTA['Null'].append(noNull); allSTA['nonNull'].append(noNonNull)\n",
    "    #         print(meanphiSC)\n",
    "        else: \n",
    "            allSTA['RCphi'].append(meanphiRC); allSTA['RCdphi'].append(stdphiRC)\n",
    "            allSTA['RCdt'].append(meandtRC); allSTA['RCddt'].append(stddtRC)\n",
    "            allSTA['SCphi'].append(meanphiSC); allSTA['SCdphi'].append(stdphiSC)\n",
    "            allSTA['SCdt'].append(meandtSC); allSTA['SCddt'].append(stddtSC)\n",
    "            allSTA['Null'].append(noNull); allSTA['nonNull'].append(noNonNull)\n",
    "\n",
    "        plot_null_PCA09(NET, STA, newdf, stlat, stlon, SAVEpath, YearRange, meanphiSC, meandtSC, ver)\n",
    "        plot_null_PCA_angle_small(NET, STA, newdf, stlat, stlon, SAVEpath, YearRange, ver)\n",
    "        plot_null_PCA_angle_large(NET, STA, newdf, stlat, stlon, SAVEpath, YearRange, ver)  \n",
    "        plot_null_angle(NET, STA, newdf, stlat, stlon, SAVEpath, YearRange, ver)  \n",
    "# stadf = pd.DataFrame(allSTA)\n",
    "# stadf.to_csv(f'{SAVEpath}/Station_SKS_{YearRange}average_v3.csv',index=False)\n"
   ]
  },
  {
   "cell_type": "code",
   "execution_count": 9,
   "id": "fa342f98-b12e-4645-be41-7bda4ad743d5",
   "metadata": {},
   "outputs": [],
   "source": [
    "stadf = pd.DataFrame(allSTA)\n",
    "# stadf.to_csv(f'{SAVEpath}/Station_SKS_{YearRange}average_v3.csv',index=False)"
   ]
  },
  {
   "cell_type": "code",
   "execution_count": 10,
   "id": "89b5aede-4c5b-48ba-a5dc-054f83cc5307",
   "metadata": {},
   "outputs": [
    {
     "data": {
      "text/html": [
       "<div>\n",
       "<style scoped>\n",
       "    .dataframe tbody tr th:only-of-type {\n",
       "        vertical-align: middle;\n",
       "    }\n",
       "\n",
       "    .dataframe tbody tr th {\n",
       "        vertical-align: top;\n",
       "    }\n",
       "\n",
       "    .dataframe thead th {\n",
       "        text-align: right;\n",
       "    }\n",
       "</style>\n",
       "<table border=\"1\" class=\"dataframe\">\n",
       "  <thead>\n",
       "    <tr style=\"text-align: right;\">\n",
       "      <th></th>\n",
       "      <th>Station</th>\n",
       "      <th>RCphi</th>\n",
       "      <th>RCdphi</th>\n",
       "      <th>RCdt</th>\n",
       "      <th>RCddt</th>\n",
       "      <th>SCphi</th>\n",
       "      <th>SCdphi</th>\n",
       "      <th>SCdt</th>\n",
       "      <th>SCddt</th>\n",
       "      <th>nonNull</th>\n",
       "      <th>Null</th>\n",
       "    </tr>\n",
       "  </thead>\n",
       "  <tbody>\n",
       "    <tr>\n",
       "      <th>0</th>\n",
       "      <td>KO.BCA</td>\n",
       "      <td>45</td>\n",
       "      <td>13</td>\n",
       "      <td>1.14</td>\n",
       "      <td>0.28</td>\n",
       "      <td>58</td>\n",
       "      <td>5</td>\n",
       "      <td>1.38</td>\n",
       "      <td>0.15</td>\n",
       "      <td>12</td>\n",
       "      <td>57</td>\n",
       "    </tr>\n",
       "    <tr>\n",
       "      <th>1</th>\n",
       "      <td>KO.TASB</td>\n",
       "      <td>74</td>\n",
       "      <td>13</td>\n",
       "      <td>0.59</td>\n",
       "      <td>0.29</td>\n",
       "      <td>73</td>\n",
       "      <td>11</td>\n",
       "      <td>0.53</td>\n",
       "      <td>0.23</td>\n",
       "      <td>9</td>\n",
       "      <td>36</td>\n",
       "    </tr>\n",
       "  </tbody>\n",
       "</table>\n",
       "</div>"
      ],
      "text/plain": [
       "   Station  RCphi  RCdphi  RCdt  RCddt  SCphi  SCdphi  SCdt  SCddt  nonNull  \\\n",
       "0   KO.BCA     45      13  1.14   0.28     58       5  1.38   0.15       12   \n",
       "1  KO.TASB     74      13  0.59   0.29     73      11  0.53   0.23        9   \n",
       "\n",
       "   Null  \n",
       "0    57  \n",
       "1    36  "
      ]
     },
     "execution_count": 10,
     "metadata": {},
     "output_type": "execute_result"
    }
   ],
   "source": [
    "stadf"
   ]
  },
  {
   "cell_type": "code",
   "execution_count": null,
   "id": "9c54f888-bdc6-4b56-a159-dac80adaa8b2",
   "metadata": {},
   "outputs": [],
   "source": []
  }
 ],
 "metadata": {
  "kernelspec": {
   "display_name": "Python 3 (ipykernel)",
   "language": "python",
   "name": "python3"
  },
  "language_info": {
   "codemirror_mode": {
    "name": "ipython",
    "version": 3
   },
   "file_extension": ".py",
   "mimetype": "text/x-python",
   "name": "python",
   "nbconvert_exporter": "python",
   "pygments_lexer": "ipython3",
   "version": "3.9.6"
  }
 },
 "nbformat": 4,
 "nbformat_minor": 5
}
