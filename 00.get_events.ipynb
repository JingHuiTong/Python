{
 "cells": [
  {
   "cell_type": "code",
   "execution_count": 2,
   "id": "dominant-stability",
   "metadata": {},
   "outputs": [],
   "source": [
    "from obspy import UTCDateTime\n",
    "from obspy.clients.fdsn import Client\n",
    "from obspy.core.event.source import FocalMechanism\n",
    "client = Client()"
   ]
  },
  {
   "cell_type": "code",
   "execution_count": 3,
   "id": "molecular-cowboy",
   "metadata": {},
   "outputs": [],
   "source": [
    "starttime = UTCDateTime(\"2015-01-01\")\n",
    "endtime = UTCDateTime(\"2015-12-31\")\n",
    "cat = client.get_events(starttime=starttime, endtime=endtime,\n",
    "                        minlatitude=25,maxlatitude=45,\n",
    "                        minlongitude=30,maxlongitude=60,\n",
    "                        minmagnitude=4, catalog=\"ISC\")"
   ]
  },
  {
   "cell_type": "code",
   "execution_count": 40,
   "id": "creative-binary",
   "metadata": {},
   "outputs": [
    {
     "ename": "AttributeError",
     "evalue": "'Catalog' object has no attribute 'FocalMechanism'",
     "output_type": "error",
     "traceback": [
      "\u001b[0;31m---------------------------------------------------------------------------\u001b[0m",
      "\u001b[0;31mAttributeError\u001b[0m                            Traceback (most recent call last)",
      "\u001b[0;32m<ipython-input-40-36ee247ab2e1>\u001b[0m in \u001b[0;36m<module>\u001b[0;34m\u001b[0m\n\u001b[0;32m----> 1\u001b[0;31m \u001b[0mcat\u001b[0m\u001b[0;34m.\u001b[0m\u001b[0mFocalMechanism\u001b[0m\u001b[0;34m\u001b[0m\u001b[0;34m\u001b[0m\u001b[0m\n\u001b[0m",
      "\u001b[0;31mAttributeError\u001b[0m: 'Catalog' object has no attribute 'FocalMechanism'"
     ]
    }
   ],
   "source": []
  },
  {
   "cell_type": "code",
   "execution_count": 37,
   "id": "relevant-hawaii",
   "metadata": {},
   "outputs": [],
   "source": [
    "aaa=qqq.principal_axes "
   ]
  },
  {
   "cell_type": "code",
   "execution_count": 38,
   "id": "minimal-necessity",
   "metadata": {},
   "outputs": [],
   "source": [
    "aaa"
   ]
  },
  {
   "cell_type": "code",
   "execution_count": null,
   "id": "hairy-mills",
   "metadata": {},
   "outputs": [],
   "source": []
  }
 ],
 "metadata": {
  "kernelspec": {
   "display_name": "Python 3",
   "language": "python",
   "name": "python3"
  },
  "language_info": {
   "codemirror_mode": {
    "name": "ipython",
    "version": 3
   },
   "file_extension": ".py",
   "mimetype": "text/x-python",
   "name": "python",
   "nbconvert_exporter": "python",
   "pygments_lexer": "ipython3",
   "version": "3.8.6"
  }
 },
 "nbformat": 4,
 "nbformat_minor": 5
}
