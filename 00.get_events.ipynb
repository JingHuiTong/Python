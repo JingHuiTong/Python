{
 "cells": [
  {
   "cell_type": "code",
   "execution_count": 2,
   "id": "dominant-stability",
   "metadata": {},
   "outputs": [],
   "source": [
    "from obspy import UTCDateTime\n",
    "from obspy.clients.fdsn import Client\n",
    "from obspy.core.event.source import FocalMechanism\n",
    "client = Client()"
   ]
  },
  {
   "cell_type": "code",
   "execution_count": 3,
   "id": "molecular-cowboy",
   "metadata": {},
   "outputs": [],
   "source": [
    "starttime = UTCDateTime(\"2015-01-01\")\n",
    "endtime = UTCDateTime(\"2015-12-31\")\n",
    "cat = client.get_events(starttime=starttime, endtime=endtime,\n",
    "                        minlatitude=25,maxlatitude=45,\n",
    "                        minlongitude=30,maxlongitude=60,\n",
    "                        minmagnitude=4, catalog=\"ISC\")"
   ]
  }
 ],
 "metadata": {
  "kernelspec": {
   "display_name": "Python 3 (ipykernel)",
   "language": "python",
   "name": "python3"
  },
  "language_info": {
   "codemirror_mode": {
    "name": "ipython",
    "version": 3
   },
   "file_extension": ".py",
   "mimetype": "text/x-python",
   "name": "python",
   "nbconvert_exporter": "python",
   "pygments_lexer": "ipython3",
   "version": "3.9.6"
  }
 },
 "nbformat": 4,
 "nbformat_minor": 5
}
