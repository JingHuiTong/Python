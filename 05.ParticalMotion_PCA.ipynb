{
 "cells": [
  {
   "cell_type": "code",
   "execution_count": 58,
   "id": "5a8bba14-a616-4845-94ad-4973b5e3f411",
   "metadata": {},
   "outputs": [],
   "source": [
    "import obspy \n",
    "from obspy import UTCDateTime\n",
    "import matplotlib.pyplot as plt\n",
    "import numpy as np\n",
    "from stdb import load_db \n",
    "import obspy \n",
    "import pickle\n",
    "import glob\n",
    "from sklearn.decomposition import PCA"
   ]
  },
  {
   "cell_type": "code",
   "execution_count": 50,
   "id": "d7dd2b4c-3dfc-4bc1-a265-be95cc8f5b3d",
   "metadata": {},
   "outputs": [],
   "source": [
    "path = '/Users/tong/qeqeqe/DATA_SKS/GO.ONI/20150211_185720'+'/'\n",
    "if len(glob.glob(path+'/*')) > 10 :\n",
    "    calc_type = 'manual'\n",
    "    Meta_pkl = path + 'Meta_data.pkl'\n",
    "    Station_data_pkl = path + 'Station_data.pkl'\n",
    "    ZNE_pkl = path + 'ZNE_data.pkl'\n",
    "    LQT_pkl = path + 'LQT_data.pkl'\n",
    "    Split_result_pkl = path + 'Split_results_manual.pkl'\n",
    "    SC_result_pkl = path + 'SC_res_manual.pkl'\n",
    "    RC_result_pkl = path + 'RC_res_manual.pkl'\n",
    "    pick_pkl = path + 'Pickphase.pkl'\n",
    "else :\n",
    "    calc_type = 'auto'\n",
    "    Meta_pkl = path + 'Meta_data.pkl'\n",
    "    Station_data_pkl = path + 'Station_data.pkl'\n",
    "    ZNE_pkl = path + 'ZNE_data.pkl'\n",
    "    LQT_pkl = path + 'LQT_data.pkl'\n",
    "    Split_result_pkl = path + 'Split_results_auto.pkl'\n",
    "    SC_result_pkl = path + 'SC_res.pkl'\n",
    "    RC_result_pkl = path + 'RC_res.pkl'    \n",
    "\n",
    "Meta = pickle.load(open(Meta_pkl, \"rb\"))\n",
    "Station_data = pickle.load(open(Station_data_pkl, \"rb\"))\n",
    "ZNE = pickle.load(open(ZNE_pkl, \"rb\"))\n",
    "LQT = pickle.load(open(LQT_pkl, \"rb\"))\n",
    "Split_result = pickle.load(open(Split_result_pkl, \"rb\"))\n",
    "SC_res = pickle.load(open(SC_result_pkl, \"rb\"))\n",
    "RC_res = pickle.load(open(RC_result_pkl, \"rb\"))\n",
    "if calc_type == 'manual':\n",
    "    Pick = pickle.load(open(pick_pkl, \"rb\"))"
   ]
  },
  {
   "cell_type": "code",
   "execution_count": 51,
   "id": "660e4dfd-6395-4757-acb9-a6a5d5e8603c",
   "metadata": {},
   "outputs": [],
   "source": [
    "trL_ori = LQT.select(component='L')[0].copy()\n",
    "trQ_ori = LQT.select(component='Q')[0].copy()\n",
    "trT_ori = LQT.select(component='T')[0].copy()\n",
    "# filter just for plot partical motion\n",
    "ZNE.filter('bandpass',freqmin=Meta.fmin,freqmax=Meta.fmax,corners=4, zerophase=True)\n",
    "trZ = ZNE.select(component='Z')[0].copy()\n",
    "trN = ZNE.select(component='N')[0].copy()\n",
    "trE = ZNE.select(component='E')[0].copy()"
   ]
  },
  {
   "cell_type": "code",
   "execution_count": 52,
   "id": "405fcede-a925-4b00-b134-ea1880c47bb9",
   "metadata": {},
   "outputs": [
    {
     "data": {
      "text/plain": [
       "GO.ONI..HHE | 2015-02-11T19:22:17.726260Z - 2015-02-11T19:22:47.726260Z | 10.0 Hz, 301 samples"
      ]
     },
     "execution_count": 52,
     "metadata": {},
     "output_type": "execute_result"
    }
   ],
   "source": [
    "wind_start = 5 \n",
    "wind_end   = 25  \n",
    "t1 = Meta.time + Meta.ttime - wind_start\n",
    "t2 = Meta.time + Meta.ttime + wind_end\n",
    "\n",
    "trL = trL_ori.copy()\n",
    "trQ = trQ_ori.copy()\n",
    "trT = trT_ori.copy()\n",
    "trL.trim(t1,t2)\n",
    "trQ.trim(t1,t2)\n",
    "trT.trim(t1,t2)\n",
    "trZ.trim(t1,t2)\n",
    "trN.trim(t1,t2)\n",
    "trE.trim(t1,t2)"
   ]
  },
  {
   "cell_type": "code",
   "execution_count": 53,
   "id": "061c9ff9-6be8-4485-921b-954a56132da0",
   "metadata": {},
   "outputs": [
    {
     "data": {
      "text/plain": [
       "Text(0.5, 1.0, 'QT, CpH=0.61')"
      ]
     },
     "execution_count": 53,
     "metadata": {},
     "output_type": "execute_result"
    },
    {
     "data": {
      "image/png": "[encoded data removed]",
      "text/plain": [
       "<Figure size 576x288 with 2 Axes>"
      ]
     },
     "metadata": {
      "needs_background": "light"
     },
     "output_type": "display_data"
    }
   ],
   "source": [
    "mmax = np.amax([np.abs(trQ.data).max(),np.abs(trT.data).max()])\n",
    "plt.figure(figsize=(8,4))\n",
    "plt.subplot(121)\n",
    "plt.xlim(-1,1);plt.ylim(-1,1)\n",
    "plt.plot(trE.data/mmax, trN.data/mmax, 'k')\n",
    "plt.subplot(122)\n",
    "plt.xlim(-1,1);plt.ylim(-1,1)\n",
    "plt.plot(trQ.data/mmax, trT.data/mmax, 'k')\n",
    "\n",
    "from sklearn.decomposition import PCA\n",
    "X = np.array([trE.data/mmax,trN.data])\n",
    "X = X.T\n",
    "pca=PCA(n_components=2)\n",
    "pca = pca.fit(X)\n",
    "eigval= pca.singular_values_\n",
    "CpH = 1-eigval[1]/eigval[0]\n",
    "plt.subplot(121)\n",
    "plt.title(f'EN, CpH={round(CpH,2)}')\n",
    "\n",
    "X = np.array([trT.data,trQ.data])\n",
    "X = X.T\n",
    "pca=PCA(n_components=2)\n",
    "pca = pca.fit(X)\n",
    "eigval= pca.singular_values_\n",
    "CpH = 1-eigval[1]/eigval[0]\n",
    "plt.subplot(122)\n",
    "plt.title(f'QT, CpH={round(CpH,2)}')"
   ]
  }
 ],
 "metadata": {
  "kernelspec": {
   "display_name": "Python 3 (ipykernel)",
   "language": "python",
   "name": "python3"
  },
  "language_info": {
   "codemirror_mode": {
    "name": "ipython",
    "version": 3
   },
   "file_extension": ".py",
   "mimetype": "text/x-python",
   "name": "python",
   "nbconvert_exporter": "python",
   "pygments_lexer": "ipython3",
   "version": "3.9.6"
  }
 },
 "nbformat": 4,
 "nbformat_minor": 5
}
