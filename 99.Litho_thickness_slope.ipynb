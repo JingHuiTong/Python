{
 "cells": [
  {
   "cell_type": "code",
   "execution_count": 2,
   "id": "6df2afe0-fc8c-481d-b4b6-e9681518234a",
   "metadata": {},
   "outputs": [],
   "source": [
    "import pygmt \n",
    "import pandas as pd\n",
    "import os,glob\n",
    "import matplotlib.pyplot as plt\n",
    "import pickle\n",
    "from obspy.geodetics.base import gps2dist_azimuth"
   ]
  },
  {
   "cell_type": "code",
   "execution_count": 3,
   "id": "30ecead9-ca68-452d-8081-fec8ffdcd03e",
   "metadata": {},
   "outputs": [],
   "source": [
    "PATH = '/Volumes/home/Research/STEP/02_Station_result_csv/'\n",
    "Lithnc = '/Volumes/home/Research/GMT/LithoThickness/LithThickness.nc'\n",
    "Mohonc = '/Volumes/home/Research/DataBase/01_Armenia/04_Moho_fit_fromCM.nc'\n",
    "PKLpath = '/Volumes/home/Research/STEP/01_Split'\n",
    "Resultcsv='/Volumes/home/Research/STEP/05_Station_result_statistics/Station_SK(K)S_2010-2020average_v4.csv'\n",
    "Volcanocsv='/Volumes/home/Research/DataBase/01_Armenia/02_Volcano_list.csv'\n",
    "dr = pd.read_csv(Resultcsv)\n",
    "dv = pd.read_csv(Volcanocsv)"
   ]
  },
  {
   "cell_type": "code",
   "execution_count": 4,
   "id": "b678ab6a-1082-4c88-b217-edf9354bb166",
   "metadata": {},
   "outputs": [],
   "source": [
    "regvals = [40, 47, 39.5, 44.5]\n",
    "APM = 65"
   ]
  },
  {
   "cell_type": "code",
   "execution_count": 5,
   "id": "f3e660e6-5c7f-403a-96f9-f1843ac0d5a7",
   "metadata": {},
   "outputs": [],
   "source": [
    "points1 = pygmt.project(center=[41.3, 42], endpoint=[45.7, 40], generate=0.05,unit=True)\n",
    "# figmap.plot(x=points1.r, y=points1.s, pen=\"2p,seagreen\")"
   ]
  },
  {
   "cell_type": "code",
   "execution_count": 6,
   "id": "fb99e580-e68a-4e9d-8c86-f58476b59139",
   "metadata": {},
   "outputs": [],
   "source": [
    "Lithfile = pygmt.grdtrack(points=points1,grid=Lithnc,newcolname=\"Thickness\")\n",
    "Mohofile = pygmt.grdtrack(points=points1,grid=Mohonc,newcolname=\"Thickness\")"
   ]
  },
  {
   "cell_type": "code",
   "execution_count": 13,
   "id": "0267645e-5192-4e01-adc5-f3af21c064a1",
   "metadata": {},
   "outputs": [
    {
     "data": {
      "image/png": "[encoded data removed]",
      "text/plain": [
       "<Figure size 720x216 with 1 Axes>"
      ]
     },
     "metadata": {
      "needs_background": "light"
     },
     "output_type": "display_data"
    }
   ],
   "source": [
    "plt.rc('font',family='Times New Roman')\n",
    "maxdist = max(Mohofile['p'])\n",
    "plt.figure(figsize=(10,3))\n",
    "# fig, axs = plt.subplots(4,1,figsize=(10,7),gridspec_kw={'height_ratios': [1, 1.5, 2, 2]})\n",
    "\n",
    "# plt.subplot(412)\n",
    "plt.plot(Mohofile['p'],-1*Mohofile['Thickness'],c='brown',label='Crust')\n",
    "plt.plot(Lithfile['p'],-1*Lithfile['Thickness'],c='orange',lw=2.5,label='Lithosphere')\n",
    "plt.xlim(0,maxdist)\n",
    "plt.ylim(-100,0)\n",
    "# plt.xticks([])\n",
    "plt.ylabel('Depth (km)', fontsize=15)\n",
    "plt.xlabel('Distance (km)', fontsize=15)\n",
    "plt.xticks(fontsize=13)\n",
    "plt.yticks(fontsize=13)\n",
    "plt.legend(fontsize=12)\n",
    "# plt.text(x=180,y=-150,s='Asthenosphere',color='r',fontsize=13,ha='center')\n",
    "# plt.text(x=180,y=-30,s='Crust',color='brown',fontsize=12,ha='center')\n",
    "plt.grid()\n"
   ]
  },
  {
   "cell_type": "code",
   "execution_count": 33,
   "id": "2f4cccbb-37af-4842-804c-ffd8125e781e",
   "metadata": {},
   "outputs": [
    {
     "name": "stdout",
     "output_type": "stream",
     "text": [
      "50.9625358582 50.9625358582\n",
      "50.6520362045 50.3530467921\n",
      "50.3530467921 49.7895112444\n",
      "50.0655385935 49.2719932052\n",
      "49.7895112444 48.800624698\n",
      "49.5249914773 48.3754124424\n",
      "49.2719932052 47.9962259649\n",
      "49.0305354709 47.6630894848\n",
      "48.800624698 47.3766063689\n",
      "48.5822587864 47.1384617037\n",
      "48.3754124424 46.9515550615\n",
      "48.1800735213 46.8195372544\n",
      "47.9962259649 46.7454025799\n",
      "47.8238894115 46.7291720505\n",
      "47.6630894848 46.7646367387\n",
      "47.5139400553 46.8350260334\n",
      "47.3766063689 46.9078578111\n",
      "47.2513377641 46.9343080158\n",
      "47.1384617037 46.8811865743\n",
      "47.0383813766 46.7790642499\n",
      "46.9515550615 46.6932341942\n",
      "46.8784590763 46.6774547198\n",
      "46.8195372544 46.7661267724\n",
      "46.7751322588 46.9811963809\n",
      "46.7454025799 47.339375259\n",
      "46.7302464288 47.8567526159\n",
      "46.7291720505 48.5504304484\n",
      "46.7411883254 49.4377453276\n",
      "46.7646367387 50.5343874507\n",
      "46.7970672137 51.8528995353\n",
      "46.8350260334 53.4023381771\n",
      "46.8738984661 55.1881236561\n",
      "46.9078578111 57.2095430046\n",
      "46.9300776993 59.4526132187\n",
      "46.9343080158 61.880617297\n",
      "46.9173520656 64.4294550183\n",
      "46.8811865743 67.0155780733\n",
      "46.8322371653 69.5542092623\n",
      "46.7790642499 71.976540528\n",
      "46.7302462212 74.2378196246\n"
     ]
    }
   ],
   "source": [
    "qwq = [0,]\n",
    "\n",
    "for i in range(0,40):\n",
    "    \n",
    "    qqq=Lithfile['Thickness'].values[i*100]\n",
    "    aaa=Lithfile['Thickness'].values[i*200]\n",
    "    print(qqq,aaa)\n",
    "    var=aaa-qqq\n",
    "    \n",
    "    qwq.append(var)\n"
   ]
  },
  {
   "cell_type": "code",
   "execution_count": 34,
   "id": "3c8d66c2-b8e7-40cc-ba68-f12a303b9c6e",
   "metadata": {},
   "outputs": [
    {
     "data": {
      "text/plain": [
       "[<matplotlib.lines.Line2D at 0x149f076a0>]"
      ]
     },
     "execution_count": 34,
     "metadata": {},
     "output_type": "execute_result"
    },
    {
     "data": {
      "image/png": "[encoded data removed]",
      "text/plain": [
       "<Figure size 432x288 with 1 Axes>"
      ]
     },
     "metadata": {
      "needs_background": "light"
     },
     "output_type": "display_data"
    }
   ],
   "source": [
    "plt.plot(qwq,c='orange',lw=2.5)"
   ]
  },
  {
   "cell_type": "code",
   "execution_count": 24,
   "id": "8a8105f9-24af-4b22-9aa0-624722509893",
   "metadata": {},
   "outputs": [
    {
     "data": {
      "text/plain": [
       "8620"
      ]
     },
     "execution_count": 24,
     "metadata": {},
     "output_type": "execute_result"
    }
   ],
   "source": [
    "len(Lithfile['Thickness'][1:])"
   ]
  },
  {
   "cell_type": "code",
   "execution_count": 21,
   "id": "7b288f85-5400-4d4f-b891-2115f6fc15ea",
   "metadata": {},
   "outputs": [
    {
     "data": {
      "text/plain": [
       "0       50.962536\n",
       "1       50.959374\n",
       "2       50.956213\n",
       "3       50.953053\n",
       "4       50.949894\n",
       "          ...    \n",
       "8616    81.526489\n",
       "8617    81.533532\n",
       "8618    81.540571\n",
       "8619    81.547605\n",
       "8620    81.549133\n",
       "Name: Thickness, Length: 8621, dtype: float64"
      ]
     },
     "execution_count": 21,
     "metadata": {},
     "output_type": "execute_result"
    }
   ],
   "source": [
    "Lithfile['Thickness']"
   ]
  },
  {
   "cell_type": "code",
   "execution_count": null,
   "id": "57c84ad1-a61b-42a6-b240-b553844b3a92",
   "metadata": {},
   "outputs": [],
   "source": []
  }
 ],
 "metadata": {
  "kernelspec": {
   "display_name": "Python 3 (ipykernel)",
   "language": "python",
   "name": "python3"
  },
  "language_info": {
   "codemirror_mode": {
    "name": "ipython",
    "version": 3
   },
   "file_extension": ".py",
   "mimetype": "text/x-python",
   "name": "python",
   "nbconvert_exporter": "python",
   "pygments_lexer": "ipython3",
   "version": "3.9.6"
  }
 },
 "nbformat": 4,
 "nbformat_minor": 5
}
