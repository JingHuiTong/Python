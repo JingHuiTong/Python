{
 "cells": [
  {
   "cell_type": "code",
   "execution_count": 17,
   "id": "3c4113e4-c23c-47d5-92ad-fb3a9749e46d",
   "metadata": {},
   "outputs": [],
   "source": [
    "import numpy as np\n",
    "from stdb import load_db \n",
    "import matplotlib.pyplot as plt\n",
    "import pandas as pd\n",
    "import pickle\n",
    "import glob, os\n",
    "\n",
    "import warnings  \n",
    "from obspy.geodetics.base import gps2dist_azimuth\n",
    "from obspy.core.event.catalog import read_events\n",
    "warnings.filterwarnings(\"ignore\")  \n",
    "from  PlotCatalog_1 import plot_nonnull_average, plot_null_PCA09, plot_null_PCA_angle_small,plot_null_PCA_angle_large, plot_null_angle\n",
    "                \n"
   ]
  },
  {
   "cell_type": "code",
   "execution_count": 18,
   "id": "5e3e8737-032a-443b-a6a3-316adb18f5d2",
   "metadata": {},
   "outputs": [],
   "source": [
    "PKLpath = '/Volumes/home/Research/STEP/01_Split'\n",
    "Path = '/Volumes/home/Research/STEP/02_Station_result_csv'\n",
    "# MAG = 6\n",
    "\n",
    "SAVEpath = '/Volumes/home/Research/STEP/05_Station_result_statistics'\n",
    "YearRange= 'SKSvsSKKS'\n",
    "ver= 2"
   ]
  },
  {
   "cell_type": "code",
   "execution_count": 19,
   "id": "2187c1e8-1faf-4d79-8a57-c6d968a41d65",
   "metadata": {},
   "outputs": [
    {
     "data": {
      "text/html": [
       "<div>\n",
       "<style scoped>\n",
       "    .dataframe tbody tr th:only-of-type {\n",
       "        vertical-align: middle;\n",
       "    }\n",
       "\n",
       "    .dataframe tbody tr th {\n",
       "        vertical-align: top;\n",
       "    }\n",
       "\n",
       "    .dataframe thead th {\n",
       "        text-align: right;\n",
       "    }\n",
       "</style>\n",
       "<table border=\"1\" class=\"dataframe\">\n",
       "  <thead>\n",
       "    <tr style=\"text-align: right;\">\n",
       "      <th></th>\n",
       "      <th>Event</th>\n",
       "      <th>Ev_lat</th>\n",
       "      <th>Ev_lon</th>\n",
       "      <th>Depth</th>\n",
       "      <th>Mag</th>\n",
       "      <th>Phase</th>\n",
       "      <th>SCPhi</th>\n",
       "      <th>SCPhi_std</th>\n",
       "      <th>SCdt</th>\n",
       "      <th>SCdt_std</th>\n",
       "      <th>...</th>\n",
       "      <th>RCPhi_std</th>\n",
       "      <th>RCdt</th>\n",
       "      <th>RCdt_std</th>\n",
       "      <th>SNRQ</th>\n",
       "      <th>SNRT</th>\n",
       "      <th>Null</th>\n",
       "      <th>Quality</th>\n",
       "      <th>CpH</th>\n",
       "      <th>Pick</th>\n",
       "      <th>coeff</th>\n",
       "    </tr>\n",
       "  </thead>\n",
       "  <tbody>\n",
       "    <tr>\n",
       "      <th>1</th>\n",
       "      <td>20120417_035015</td>\n",
       "      <td>-32.6374</td>\n",
       "      <td>-71.5641</td>\n",
       "      <td>29.70</td>\n",
       "      <td>6.7</td>\n",
       "      <td>SKKS</td>\n",
       "      <td>-17.24</td>\n",
       "      <td>44.75</td>\n",
       "      <td>3.9</td>\n",
       "      <td>0.98</td>\n",
       "      <td>...</td>\n",
       "      <td>44.75</td>\n",
       "      <td>0.1</td>\n",
       "      <td>0.98</td>\n",
       "      <td>2.49</td>\n",
       "      <td>0.10</td>\n",
       "      <td>True</td>\n",
       "      <td>Fair</td>\n",
       "      <td>0.65</td>\n",
       "      <td>True</td>\n",
       "      <td>1.00</td>\n",
       "    </tr>\n",
       "    <tr>\n",
       "      <th>2</th>\n",
       "      <td>20120423_173621</td>\n",
       "      <td>-28.6015</td>\n",
       "      <td>-177.3408</td>\n",
       "      <td>113.80</td>\n",
       "      <td>6.0</td>\n",
       "      <td>SKKS</td>\n",
       "      <td>65.15</td>\n",
       "      <td>1.25</td>\n",
       "      <td>3.4</td>\n",
       "      <td>0.28</td>\n",
       "      <td>...</td>\n",
       "      <td>44.75</td>\n",
       "      <td>0.8</td>\n",
       "      <td>0.98</td>\n",
       "      <td>11.15</td>\n",
       "      <td>5.72</td>\n",
       "      <td>True</td>\n",
       "      <td>Fair</td>\n",
       "      <td>0.63</td>\n",
       "      <td>True</td>\n",
       "      <td>1.00</td>\n",
       "    </tr>\n",
       "    <tr>\n",
       "      <th>3</th>\n",
       "      <td>20120428_100807</td>\n",
       "      <td>-18.7293</td>\n",
       "      <td>-174.6864</td>\n",
       "      <td>132.50</td>\n",
       "      <td>6.7</td>\n",
       "      <td>SKKS</td>\n",
       "      <td>55.45</td>\n",
       "      <td>44.75</td>\n",
       "      <td>3.5</td>\n",
       "      <td>0.98</td>\n",
       "      <td>...</td>\n",
       "      <td>44.75</td>\n",
       "      <td>0.4</td>\n",
       "      <td>0.98</td>\n",
       "      <td>22.04</td>\n",
       "      <td>6.63</td>\n",
       "      <td>True</td>\n",
       "      <td>Good</td>\n",
       "      <td>0.90</td>\n",
       "      <td>True</td>\n",
       "      <td>1.00</td>\n",
       "    </tr>\n",
       "    <tr>\n",
       "      <th>4</th>\n",
       "      <td>20120607_040504</td>\n",
       "      <td>-36.0516</td>\n",
       "      <td>-70.8547</td>\n",
       "      <td>5.80</td>\n",
       "      <td>6.0</td>\n",
       "      <td>SKKS</td>\n",
       "      <td>46.61</td>\n",
       "      <td>2.00</td>\n",
       "      <td>1.9</td>\n",
       "      <td>0.10</td>\n",
       "      <td>...</td>\n",
       "      <td>44.75</td>\n",
       "      <td>1.6</td>\n",
       "      <td>0.98</td>\n",
       "      <td>10.74</td>\n",
       "      <td>12.62</td>\n",
       "      <td>False</td>\n",
       "      <td>Fair</td>\n",
       "      <td>0.50</td>\n",
       "      <td>True</td>\n",
       "      <td>1.00</td>\n",
       "    </tr>\n",
       "    <tr>\n",
       "      <th>5</th>\n",
       "      <td>20120703_103615</td>\n",
       "      <td>-40.0600</td>\n",
       "      <td>173.6600</td>\n",
       "      <td>239.00</td>\n",
       "      <td>6.3</td>\n",
       "      <td>SKKS</td>\n",
       "      <td>85.97</td>\n",
       "      <td>44.75</td>\n",
       "      <td>1.8</td>\n",
       "      <td>0.98</td>\n",
       "      <td>...</td>\n",
       "      <td>44.75</td>\n",
       "      <td>0.9</td>\n",
       "      <td>0.98</td>\n",
       "      <td>12.00</td>\n",
       "      <td>3.29</td>\n",
       "      <td>True</td>\n",
       "      <td>Fair</td>\n",
       "      <td>0.61</td>\n",
       "      <td>True</td>\n",
       "      <td>0.30</td>\n",
       "    </tr>\n",
       "    <tr>\n",
       "      <th>6</th>\n",
       "      <td>20120706_022822</td>\n",
       "      <td>-14.6567</td>\n",
       "      <td>167.3043</td>\n",
       "      <td>164.80</td>\n",
       "      <td>6.4</td>\n",
       "      <td>SKKS</td>\n",
       "      <td>47.61</td>\n",
       "      <td>17.75</td>\n",
       "      <td>2.6</td>\n",
       "      <td>0.88</td>\n",
       "      <td>...</td>\n",
       "      <td>44.75</td>\n",
       "      <td>1.6</td>\n",
       "      <td>0.98</td>\n",
       "      <td>5.44</td>\n",
       "      <td>9.06</td>\n",
       "      <td>True</td>\n",
       "      <td>Fair</td>\n",
       "      <td>0.49</td>\n",
       "      <td>True</td>\n",
       "      <td>1.00</td>\n",
       "    </tr>\n",
       "    <tr>\n",
       "      <th>7</th>\n",
       "      <td>20121020_230032</td>\n",
       "      <td>-13.5730</td>\n",
       "      <td>166.6105</td>\n",
       "      <td>43.50</td>\n",
       "      <td>6.2</td>\n",
       "      <td>SKKS</td>\n",
       "      <td>63.16</td>\n",
       "      <td>44.75</td>\n",
       "      <td>2.3</td>\n",
       "      <td>0.98</td>\n",
       "      <td>...</td>\n",
       "      <td>44.75</td>\n",
       "      <td>0.7</td>\n",
       "      <td>0.98</td>\n",
       "      <td>6.30</td>\n",
       "      <td>-0.64</td>\n",
       "      <td>True</td>\n",
       "      <td>Fair</td>\n",
       "      <td>0.45</td>\n",
       "      <td>True</td>\n",
       "      <td>1.00</td>\n",
       "    </tr>\n",
       "    <tr>\n",
       "      <th>9</th>\n",
       "      <td>20121221_222808</td>\n",
       "      <td>-14.3591</td>\n",
       "      <td>167.2778</td>\n",
       "      <td>198.10</td>\n",
       "      <td>6.7</td>\n",
       "      <td>SKKS</td>\n",
       "      <td>65.36</td>\n",
       "      <td>3.50</td>\n",
       "      <td>2.8</td>\n",
       "      <td>0.62</td>\n",
       "      <td>...</td>\n",
       "      <td>44.75</td>\n",
       "      <td>0.6</td>\n",
       "      <td>0.98</td>\n",
       "      <td>5.64</td>\n",
       "      <td>-2.23</td>\n",
       "      <td>True</td>\n",
       "      <td>Fair</td>\n",
       "      <td>0.55</td>\n",
       "      <td>True</td>\n",
       "      <td>1.00</td>\n",
       "    </tr>\n",
       "    <tr>\n",
       "      <th>14</th>\n",
       "      <td>20130426_065328</td>\n",
       "      <td>-28.7301</td>\n",
       "      <td>-178.8979</td>\n",
       "      <td>355.40</td>\n",
       "      <td>6.2</td>\n",
       "      <td>SKKS</td>\n",
       "      <td>67.64</td>\n",
       "      <td>44.75</td>\n",
       "      <td>2.6</td>\n",
       "      <td>0.98</td>\n",
       "      <td>...</td>\n",
       "      <td>44.75</td>\n",
       "      <td>0.7</td>\n",
       "      <td>0.98</td>\n",
       "      <td>10.56</td>\n",
       "      <td>5.84</td>\n",
       "      <td>True</td>\n",
       "      <td>Good</td>\n",
       "      <td>0.92</td>\n",
       "      <td>True</td>\n",
       "      <td>1.00</td>\n",
       "    </tr>\n",
       "    <tr>\n",
       "      <th>15</th>\n",
       "      <td>20130511_204657</td>\n",
       "      <td>-17.9392</td>\n",
       "      <td>-175.1186</td>\n",
       "      <td>210.30</td>\n",
       "      <td>6.3</td>\n",
       "      <td>SKKS</td>\n",
       "      <td>49.02</td>\n",
       "      <td>7.00</td>\n",
       "      <td>1.9</td>\n",
       "      <td>0.57</td>\n",
       "      <td>...</td>\n",
       "      <td>44.75</td>\n",
       "      <td>0.7</td>\n",
       "      <td>0.98</td>\n",
       "      <td>7.67</td>\n",
       "      <td>-2.25</td>\n",
       "      <td>True</td>\n",
       "      <td>Fair</td>\n",
       "      <td>0.04</td>\n",
       "      <td>True</td>\n",
       "      <td>1.00</td>\n",
       "    </tr>\n",
       "    <tr>\n",
       "      <th>16</th>\n",
       "      <td>20131123_074832</td>\n",
       "      <td>-17.1613</td>\n",
       "      <td>-176.5188</td>\n",
       "      <td>370.10</td>\n",
       "      <td>6.5</td>\n",
       "      <td>SKKS</td>\n",
       "      <td>48.63</td>\n",
       "      <td>6.00</td>\n",
       "      <td>2.2</td>\n",
       "      <td>0.58</td>\n",
       "      <td>...</td>\n",
       "      <td>44.75</td>\n",
       "      <td>3.0</td>\n",
       "      <td>0.98</td>\n",
       "      <td>17.62</td>\n",
       "      <td>8.55</td>\n",
       "      <td>False</td>\n",
       "      <td>Poor</td>\n",
       "      <td>0.64</td>\n",
       "      <td>True</td>\n",
       "      <td>1.00</td>\n",
       "    </tr>\n",
       "    <tr>\n",
       "      <th>17</th>\n",
       "      <td>20140207_084013</td>\n",
       "      <td>-15.0764</td>\n",
       "      <td>167.4164</td>\n",
       "      <td>124.60</td>\n",
       "      <td>6.5</td>\n",
       "      <td>SKKS</td>\n",
       "      <td>47.92</td>\n",
       "      <td>5.50</td>\n",
       "      <td>1.9</td>\n",
       "      <td>0.27</td>\n",
       "      <td>...</td>\n",
       "      <td>25.25</td>\n",
       "      <td>2.1</td>\n",
       "      <td>0.75</td>\n",
       "      <td>9.27</td>\n",
       "      <td>10.78</td>\n",
       "      <td>False</td>\n",
       "      <td>Fair</td>\n",
       "      <td>0.72</td>\n",
       "      <td>True</td>\n",
       "      <td>-0.86</td>\n",
       "    </tr>\n",
       "    <tr>\n",
       "      <th>18</th>\n",
       "      <td>20140509_103219</td>\n",
       "      <td>-18.9350</td>\n",
       "      <td>-175.5746</td>\n",
       "      <td>172.30</td>\n",
       "      <td>6.0</td>\n",
       "      <td>SKKS</td>\n",
       "      <td>-33.37</td>\n",
       "      <td>44.75</td>\n",
       "      <td>3.9</td>\n",
       "      <td>0.98</td>\n",
       "      <td>...</td>\n",
       "      <td>44.75</td>\n",
       "      <td>0.1</td>\n",
       "      <td>0.98</td>\n",
       "      <td>15.22</td>\n",
       "      <td>4.35</td>\n",
       "      <td>True</td>\n",
       "      <td>Good</td>\n",
       "      <td>0.94</td>\n",
       "      <td>True</td>\n",
       "      <td>1.00</td>\n",
       "    </tr>\n",
       "    <tr>\n",
       "      <th>19</th>\n",
       "      <td>20140703_195007</td>\n",
       "      <td>-30.4601</td>\n",
       "      <td>-176.4451</td>\n",
       "      <td>35.00</td>\n",
       "      <td>6.4</td>\n",
       "      <td>SKKS</td>\n",
       "      <td>64.00</td>\n",
       "      <td>9.75</td>\n",
       "      <td>2.4</td>\n",
       "      <td>0.78</td>\n",
       "      <td>...</td>\n",
       "      <td>44.75</td>\n",
       "      <td>1.0</td>\n",
       "      <td>0.98</td>\n",
       "      <td>14.20</td>\n",
       "      <td>7.70</td>\n",
       "      <td>True</td>\n",
       "      <td>Fair</td>\n",
       "      <td>0.55</td>\n",
       "      <td>True</td>\n",
       "      <td>0.33</td>\n",
       "    </tr>\n",
       "    <tr>\n",
       "      <th>20</th>\n",
       "      <td>20140703_195010</td>\n",
       "      <td>-30.3500</td>\n",
       "      <td>-176.3000</td>\n",
       "      <td>49.10</td>\n",
       "      <td>6.3</td>\n",
       "      <td>SKKS</td>\n",
       "      <td>65.00</td>\n",
       "      <td>17.00</td>\n",
       "      <td>2.5</td>\n",
       "      <td>0.88</td>\n",
       "      <td>...</td>\n",
       "      <td>44.75</td>\n",
       "      <td>0.9</td>\n",
       "      <td>0.98</td>\n",
       "      <td>14.70</td>\n",
       "      <td>8.50</td>\n",
       "      <td>True</td>\n",
       "      <td>Fair</td>\n",
       "      <td>0.68</td>\n",
       "      <td>True</td>\n",
       "      <td>0.97</td>\n",
       "    </tr>\n",
       "    <tr>\n",
       "      <th>21</th>\n",
       "      <td>20140721_145441</td>\n",
       "      <td>-19.8015</td>\n",
       "      <td>-178.4001</td>\n",
       "      <td>615.40</td>\n",
       "      <td>6.9</td>\n",
       "      <td>SKKS</td>\n",
       "      <td>49.00</td>\n",
       "      <td>2.75</td>\n",
       "      <td>2.1</td>\n",
       "      <td>0.22</td>\n",
       "      <td>...</td>\n",
       "      <td>44.75</td>\n",
       "      <td>1.3</td>\n",
       "      <td>0.98</td>\n",
       "      <td>10.30</td>\n",
       "      <td>6.60</td>\n",
       "      <td>False</td>\n",
       "      <td>Poor</td>\n",
       "      <td>0.55</td>\n",
       "      <td>True</td>\n",
       "      <td>1.00</td>\n",
       "    </tr>\n",
       "    <tr>\n",
       "      <th>22</th>\n",
       "      <td>20141101_185722</td>\n",
       "      <td>-19.8023</td>\n",
       "      <td>-177.8334</td>\n",
       "      <td>435.30</td>\n",
       "      <td>7.1</td>\n",
       "      <td>SKKS</td>\n",
       "      <td>36.93</td>\n",
       "      <td>11.75</td>\n",
       "      <td>1.2</td>\n",
       "      <td>0.32</td>\n",
       "      <td>...</td>\n",
       "      <td>18.00</td>\n",
       "      <td>1.1</td>\n",
       "      <td>0.62</td>\n",
       "      <td>9.71</td>\n",
       "      <td>7.73</td>\n",
       "      <td>False</td>\n",
       "      <td>Good</td>\n",
       "      <td>0.49</td>\n",
       "      <td>True</td>\n",
       "      <td>-0.93</td>\n",
       "    </tr>\n",
       "    <tr>\n",
       "      <th>23</th>\n",
       "      <td>20150530_171839</td>\n",
       "      <td>-15.7607</td>\n",
       "      <td>-173.4612</td>\n",
       "      <td>37.90</td>\n",
       "      <td>6.0</td>\n",
       "      <td>SKKS</td>\n",
       "      <td>47.84</td>\n",
       "      <td>44.75</td>\n",
       "      <td>2.1</td>\n",
       "      <td>0.98</td>\n",
       "      <td>...</td>\n",
       "      <td>44.75</td>\n",
       "      <td>0.6</td>\n",
       "      <td>0.98</td>\n",
       "      <td>12.61</td>\n",
       "      <td>2.50</td>\n",
       "      <td>True</td>\n",
       "      <td>Fair</td>\n",
       "      <td>0.71</td>\n",
       "      <td>True</td>\n",
       "      <td>1.00</td>\n",
       "    </tr>\n",
       "    <tr>\n",
       "      <th>29</th>\n",
       "      <td>20170926_042000</td>\n",
       "      <td>-23.7135</td>\n",
       "      <td>-176.9366</td>\n",
       "      <td>98.07</td>\n",
       "      <td>6.4</td>\n",
       "      <td>SKKS</td>\n",
       "      <td>55.89</td>\n",
       "      <td>2.75</td>\n",
       "      <td>2.7</td>\n",
       "      <td>0.38</td>\n",
       "      <td>...</td>\n",
       "      <td>44.75</td>\n",
       "      <td>1.0</td>\n",
       "      <td>0.98</td>\n",
       "      <td>6.69</td>\n",
       "      <td>7.96</td>\n",
       "      <td>True</td>\n",
       "      <td>Fair</td>\n",
       "      <td>0.66</td>\n",
       "      <td>True</td>\n",
       "      <td>1.00</td>\n",
       "    </tr>\n",
       "    <tr>\n",
       "      <th>30</th>\n",
       "      <td>20180819_042858</td>\n",
       "      <td>-16.9783</td>\n",
       "      <td>-178.0332</td>\n",
       "      <td>415.60</td>\n",
       "      <td>6.8</td>\n",
       "      <td>SKKS</td>\n",
       "      <td>32.98</td>\n",
       "      <td>44.75</td>\n",
       "      <td>3.9</td>\n",
       "      <td>0.98</td>\n",
       "      <td>...</td>\n",
       "      <td>44.75</td>\n",
       "      <td>0.0</td>\n",
       "      <td>0.98</td>\n",
       "      <td>10.81</td>\n",
       "      <td>10.81</td>\n",
       "      <td>True</td>\n",
       "      <td>Good</td>\n",
       "      <td>1.00</td>\n",
       "      <td>True</td>\n",
       "      <td>1.00</td>\n",
       "    </tr>\n",
       "    <tr>\n",
       "      <th>33</th>\n",
       "      <td>20190519_142712</td>\n",
       "      <td>-21.7384</td>\n",
       "      <td>169.5741</td>\n",
       "      <td>19.95</td>\n",
       "      <td>6.0</td>\n",
       "      <td>SKKS</td>\n",
       "      <td>71.95</td>\n",
       "      <td>44.75</td>\n",
       "      <td>3.9</td>\n",
       "      <td>0.98</td>\n",
       "      <td>...</td>\n",
       "      <td>44.75</td>\n",
       "      <td>0.6</td>\n",
       "      <td>0.98</td>\n",
       "      <td>8.85</td>\n",
       "      <td>3.28</td>\n",
       "      <td>True</td>\n",
       "      <td>Good</td>\n",
       "      <td>0.93</td>\n",
       "      <td>True</td>\n",
       "      <td>1.00</td>\n",
       "    </tr>\n",
       "  </tbody>\n",
       "</table>\n",
       "<p>21 rows × 21 columns</p>\n",
       "</div>"
      ],
      "text/plain": [
       "              Event   Ev_lat    Ev_lon   Depth  Mag Phase  SCPhi  SCPhi_std  \\\n",
       "1   20120417_035015 -32.6374  -71.5641   29.70  6.7  SKKS -17.24      44.75   \n",
       "2   20120423_173621 -28.6015 -177.3408  113.80  6.0  SKKS  65.15       1.25   \n",
       "3   20120428_100807 -18.7293 -174.6864  132.50  6.7  SKKS  55.45      44.75   \n",
       "4   20120607_040504 -36.0516  -70.8547    5.80  6.0  SKKS  46.61       2.00   \n",
       "5   20120703_103615 -40.0600  173.6600  239.00  6.3  SKKS  85.97      44.75   \n",
       "6   20120706_022822 -14.6567  167.3043  164.80  6.4  SKKS  47.61      17.75   \n",
       "7   20121020_230032 -13.5730  166.6105   43.50  6.2  SKKS  63.16      44.75   \n",
       "9   20121221_222808 -14.3591  167.2778  198.10  6.7  SKKS  65.36       3.50   \n",
       "14  20130426_065328 -28.7301 -178.8979  355.40  6.2  SKKS  67.64      44.75   \n",
       "15  20130511_204657 -17.9392 -175.1186  210.30  6.3  SKKS  49.02       7.00   \n",
       "16  20131123_074832 -17.1613 -176.5188  370.10  6.5  SKKS  48.63       6.00   \n",
       "17  20140207_084013 -15.0764  167.4164  124.60  6.5  SKKS  47.92       5.50   \n",
       "18  20140509_103219 -18.9350 -175.5746  172.30  6.0  SKKS -33.37      44.75   \n",
       "19  20140703_195007 -30.4601 -176.4451   35.00  6.4  SKKS  64.00       9.75   \n",
       "20  20140703_195010 -30.3500 -176.3000   49.10  6.3  SKKS  65.00      17.00   \n",
       "21  20140721_145441 -19.8015 -178.4001  615.40  6.9  SKKS  49.00       2.75   \n",
       "22  20141101_185722 -19.8023 -177.8334  435.30  7.1  SKKS  36.93      11.75   \n",
       "23  20150530_171839 -15.7607 -173.4612   37.90  6.0  SKKS  47.84      44.75   \n",
       "29  20170926_042000 -23.7135 -176.9366   98.07  6.4  SKKS  55.89       2.75   \n",
       "30  20180819_042858 -16.9783 -178.0332  415.60  6.8  SKKS  32.98      44.75   \n",
       "33  20190519_142712 -21.7384  169.5741   19.95  6.0  SKKS  71.95      44.75   \n",
       "\n",
       "    SCdt  SCdt_std  ...  RCPhi_std  RCdt  RCdt_std   SNRQ   SNRT   Null  \\\n",
       "1    3.9      0.98  ...      44.75   0.1      0.98   2.49   0.10   True   \n",
       "2    3.4      0.28  ...      44.75   0.8      0.98  11.15   5.72   True   \n",
       "3    3.5      0.98  ...      44.75   0.4      0.98  22.04   6.63   True   \n",
       "4    1.9      0.10  ...      44.75   1.6      0.98  10.74  12.62  False   \n",
       "5    1.8      0.98  ...      44.75   0.9      0.98  12.00   3.29   True   \n",
       "6    2.6      0.88  ...      44.75   1.6      0.98   5.44   9.06   True   \n",
       "7    2.3      0.98  ...      44.75   0.7      0.98   6.30  -0.64   True   \n",
       "9    2.8      0.62  ...      44.75   0.6      0.98   5.64  -2.23   True   \n",
       "14   2.6      0.98  ...      44.75   0.7      0.98  10.56   5.84   True   \n",
       "15   1.9      0.57  ...      44.75   0.7      0.98   7.67  -2.25   True   \n",
       "16   2.2      0.58  ...      44.75   3.0      0.98  17.62   8.55  False   \n",
       "17   1.9      0.27  ...      25.25   2.1      0.75   9.27  10.78  False   \n",
       "18   3.9      0.98  ...      44.75   0.1      0.98  15.22   4.35   True   \n",
       "19   2.4      0.78  ...      44.75   1.0      0.98  14.20   7.70   True   \n",
       "20   2.5      0.88  ...      44.75   0.9      0.98  14.70   8.50   True   \n",
       "21   2.1      0.22  ...      44.75   1.3      0.98  10.30   6.60  False   \n",
       "22   1.2      0.32  ...      18.00   1.1      0.62   9.71   7.73  False   \n",
       "23   2.1      0.98  ...      44.75   0.6      0.98  12.61   2.50   True   \n",
       "29   2.7      0.38  ...      44.75   1.0      0.98   6.69   7.96   True   \n",
       "30   3.9      0.98  ...      44.75   0.0      0.98  10.81  10.81   True   \n",
       "33   3.9      0.98  ...      44.75   0.6      0.98   8.85   3.28   True   \n",
       "\n",
       "    Quality   CpH  Pick  coeff  \n",
       "1      Fair  0.65  True   1.00  \n",
       "2      Fair  0.63  True   1.00  \n",
       "3      Good  0.90  True   1.00  \n",
       "4      Fair  0.50  True   1.00  \n",
       "5      Fair  0.61  True   0.30  \n",
       "6      Fair  0.49  True   1.00  \n",
       "7      Fair  0.45  True   1.00  \n",
       "9      Fair  0.55  True   1.00  \n",
       "14     Good  0.92  True   1.00  \n",
       "15     Fair  0.04  True   1.00  \n",
       "16     Poor  0.64  True   1.00  \n",
       "17     Fair  0.72  True  -0.86  \n",
       "18     Good  0.94  True   1.00  \n",
       "19     Fair  0.55  True   0.33  \n",
       "20     Fair  0.68  True   0.97  \n",
       "21     Poor  0.55  True   1.00  \n",
       "22     Good  0.49  True  -0.93  \n",
       "23     Fair  0.71  True   1.00  \n",
       "29     Fair  0.66  True   1.00  \n",
       "30     Good  1.00  True   1.00  \n",
       "33     Good  0.93  True   1.00  \n",
       "\n",
       "[21 rows x 21 columns]"
      ]
     },
     "execution_count": 19,
     "metadata": {},
     "output_type": "execute_result"
    }
   ],
   "source": [
    "df"
   ]
  },
  {
   "cell_type": "code",
   "execution_count": 23,
   "id": "ff96d713-83a6-4473-a66b-d8d706c8707f",
   "metadata": {},
   "outputs": [
    {
     "data": {
      "text/plain": [
       "'SKKS'"
      ]
     },
     "execution_count": 23,
     "metadata": {},
     "output_type": "execute_result"
    }
   ],
   "source": [
    "csvpath.rsplit('_')[4]"
   ]
  },
  {
   "cell_type": "code",
   "execution_count": 24,
   "id": "2cd97c5a-23fc-4bd3-b1e8-1628bbe571bf",
   "metadata": {
    "tags": []
   },
   "outputs": [
    {
     "name": "stdout",
     "output_type": "stream",
     "text": [
      "AM.ALAV\n",
      "44\n",
      "3\n",
      "32.2737601935 25.8364245462 1.11050769203 0.550837745822 41.2741448415 16.9891713878 1.18081896806 0.463716867639 41 3\n"
     ]
    },
    {
     "name": "stderr",
     "output_type": "stream",
     "text": [
      "coast [WARNING]: Fill/clip continent option (-G) may not work for this projection.\n",
      "coast [WARNING]: If the antipode (0/1) is in the ocean then chances are good it will work.\n",
      "coast [WARNING]: Otherwise, avoid projection center coordinates that are exact multiples of 224 degrees.\n"
     ]
    },
    {
     "name": "stdout",
     "output_type": "stream",
     "text": [
      "AM.ARZA\n",
      "61\n",
      "2\n",
      "40.74 44.75 1.2 0.98 63.74 10.0 1.4 0.35 59 1\n"
     ]
    },
    {
     "name": "stderr",
     "output_type": "stream",
     "text": [
      "coast [WARNING]: Fill/clip continent option (-G) may not work for this projection.\n",
      "coast [WARNING]: If the antipode (0/1) is in the ocean then chances are good it will work.\n",
      "coast [WARNING]: Otherwise, avoid projection center coordinates that are exact multiples of 224 degrees.\n"
     ]
    },
    {
     "name": "stdout",
     "output_type": "stream",
     "text": [
      "AM.BAUR\n",
      "37\n",
      "6\n",
      "57.2725192305 16.8958204891 1.04717948725 0.349046319753 58.6735293112 11.5930714462 0.880018718382 0.280262773522 31 6\n"
     ]
    },
    {
     "name": "stderr",
     "output_type": "stream",
     "text": [
      "coast [WARNING]: Fill/clip continent option (-G) may not work for this projection.\n",
      "coast [WARNING]: If the antipode (0/1) is in the ocean then chances are good it will work.\n",
      "coast [WARNING]: Otherwise, avoid projection center coordinates that are exact multiples of 224 degrees.\n"
     ]
    },
    {
     "name": "stdout",
     "output_type": "stream",
     "text": [
      "AM.BYUR\n",
      "35\n",
      "4\n",
      "66.5120938885 31.6430284581 0.365664244985 0.692964645563 27.1473615317 12.6305680791 0.382906474376 0.383046994506 31 2\n"
     ]
    },
    {
     "name": "stderr",
     "output_type": "stream",
     "text": [
      "coast [WARNING]: Fill/clip continent option (-G) may not work for this projection.\n",
      "coast [WARNING]: If the antipode (0/1) is in the ocean then chances are good it will work.\n",
      "coast [WARNING]: Otherwise, avoid projection center coordinates that are exact multiples of 224 degrees.\n"
     ]
    },
    {
     "name": "stdout",
     "output_type": "stream",
     "text": [
      "AM.GERK\n",
      "39\n",
      "1\n",
      "nan nan nan nan nan nan nan nan 38 0\n"
     ]
    },
    {
     "name": "stderr",
     "output_type": "stream",
     "text": [
      "coast [WARNING]: Fill/clip continent option (-G) may not work for this projection.\n",
      "coast [WARNING]: If the antipode (0/1) is in the ocean then chances are good it will work.\n",
      "coast [WARNING]: Otherwise, avoid projection center coordinates that are exact multiples of 224 degrees.\n",
      "plot [WARNING]: Ellipse/Rectangle angle = NaN near line 1. Skipped\n"
     ]
    },
    {
     "name": "stdout",
     "output_type": "stream",
     "text": [
      "AM.KECH\n",
      "8\n",
      "0\n",
      "nan nan nan nan nan nan nan nan 8 0\n"
     ]
    },
    {
     "name": "stderr",
     "output_type": "stream",
     "text": [
      "coast [WARNING]: Fill/clip continent option (-G) may not work for this projection.\n",
      "coast [WARNING]: If the antipode (0/1) is in the ocean then chances are good it will work.\n",
      "coast [WARNING]: Otherwise, avoid projection center coordinates that are exact multiples of 224 degrees.\n",
      "plot [WARNING]: Ellipse/Rectangle angle = NaN near line 1. Skipped\n"
     ]
    },
    {
     "name": "stdout",
     "output_type": "stream",
     "text": [
      "AM.LICH\n",
      "33\n",
      "1\n",
      "nan nan nan nan nan nan nan nan 32 0\n"
     ]
    },
    {
     "name": "stderr",
     "output_type": "stream",
     "text": [
      "coast [WARNING]: Fill/clip continent option (-G) may not work for this projection.\n",
      "coast [WARNING]: If the antipode (0/1) is in the ocean then chances are good it will work.\n",
      "coast [WARNING]: Otherwise, avoid projection center coordinates that are exact multiples of 224 degrees.\n",
      "plot [WARNING]: Ellipse/Rectangle angle = NaN near line 1. Skipped\n"
     ]
    },
    {
     "name": "stdout",
     "output_type": "stream",
     "text": [
      "AM.MAGY\n",
      "38\n",
      "2\n",
      "66.6087879421 24.308241915 0.947220183624 0.56189411814 68.7551787582 10.3274512829 0.729343228901 0.243823706805 36 2\n"
     ]
    },
    {
     "name": "stderr",
     "output_type": "stream",
     "text": [
      "coast [WARNING]: Fill/clip continent option (-G) may not work for this projection.\n",
      "coast [WARNING]: If the antipode (0/1) is in the ocean then chances are good it will work.\n",
      "coast [WARNING]: Otherwise, avoid projection center coordinates that are exact multiples of 224 degrees.\n"
     ]
    },
    {
     "name": "stdout",
     "output_type": "stream",
     "text": [
      "AM.NAVR\n",
      "28\n",
      "1\n",
      "39.0 44.75 0.4 0.98 54.0 44.75 0.5 0.98 27 1\n"
     ]
    },
    {
     "name": "stderr",
     "output_type": "stream",
     "text": [
      "coast [WARNING]: Fill/clip continent option (-G) may not work for this projection.\n",
      "coast [WARNING]: If the antipode (0/1) is in the ocean then chances are good it will work.\n",
      "coast [WARNING]: Otherwise, avoid projection center coordinates that are exact multiples of 224 degrees.\n"
     ]
    },
    {
     "name": "stdout",
     "output_type": "stream",
     "text": [
      "AM.SHEN\n",
      "30\n",
      "1\n",
      "43.71 44.75 1.2 0.98 27.71 44.75 1.3 0.98 29 1\n"
     ]
    },
    {
     "name": "stderr",
     "output_type": "stream",
     "text": [
      "coast [WARNING]: Fill/clip continent option (-G) may not work for this projection.\n",
      "coast [WARNING]: If the antipode (0/1) is in the ocean then chances are good it will work.\n",
      "coast [WARNING]: Otherwise, avoid projection center coordinates that are exact multiples of 224 degrees.\n"
     ]
    },
    {
     "name": "stdout",
     "output_type": "stream",
     "text": [
      "AM.TSAP\n",
      "18\n",
      "2\n",
      "-32.5761221034 31.6430284581 0.109737472316 0.692964645563 -22.905679458 23.8910286509 0.195173199271 0.517034815075 16 2\n"
     ]
    },
    {
     "name": "stderr",
     "output_type": "stream",
     "text": [
      "coast [WARNING]: Fill/clip continent option (-G) may not work for this projection.\n",
      "coast [WARNING]: If the antipode (0/1) is in the ocean then chances are good it will work.\n",
      "coast [WARNING]: Otherwise, avoid projection center coordinates that are exact multiples of 224 degrees.\n"
     ]
    },
    {
     "name": "stdout",
     "output_type": "stream",
     "text": [
      "AM.VAND\n",
      "29\n",
      "9\n",
      "VAND 20160729_211826 not used\n",
      "VAND 20180211_231415 not used\n",
      "42.1943403533 15.8251769181 0.484240268122 0.347656879872 33.0314061693 11.7141223856 0.408400103639 0.270713343383 20 7\n"
     ]
    },
    {
     "name": "stderr",
     "output_type": "stream",
     "text": [
      "coast [WARNING]: Fill/clip continent option (-G) may not work for this projection.\n",
      "coast [WARNING]: If the antipode (0/1) is in the ocean then chances are good it will work.\n",
      "coast [WARNING]: Otherwise, avoid projection center coordinates that are exact multiples of 224 degrees.\n"
     ]
    },
    {
     "name": "stdout",
     "output_type": "stream",
     "text": [
      "AM.ZARN\n",
      "52\n",
      "10\n",
      "ZARN 20180211_231415 not used\n",
      "49.7750795087 13.7144321118 1.33425720038 0.310429809565 36.5831852235 4.79333706794 1.50958194926 0.183390563458 42 9\n"
     ]
    },
    {
     "name": "stderr",
     "output_type": "stream",
     "text": [
      "coast [WARNING]: Fill/clip continent option (-G) may not work for this projection.\n",
      "coast [WARNING]: If the antipode (0/1) is in the ocean then chances are good it will work.\n",
      "coast [WARNING]: Otherwise, avoid projection center coordinates that are exact multiples of 224 degrees.\n"
     ]
    },
    {
     "name": "stdout",
     "output_type": "stream",
     "text": [
      "GO.AKH\n",
      "99\n",
      "32\n",
      "39.1226195952 7.05217657496 1.05580152208 0.153317390476 40.6477173785 3.47109092682 1.06644925221 0.0869054403105 67 30\n"
     ]
    },
    {
     "name": "stderr",
     "output_type": "stream",
     "text": [
      "coast [WARNING]: Fill/clip continent option (-G) may not work for this projection.\n",
      "coast [WARNING]: If the antipode (0/1) is in the ocean then chances are good it will work.\n",
      "coast [WARNING]: Otherwise, avoid projection center coordinates that are exact multiples of 224 degrees.\n"
     ]
    },
    {
     "name": "stdout",
     "output_type": "stream",
     "text": [
      "GO.BGD\n",
      "5\n",
      "0\n",
      "nan nan nan nan nan nan nan nan 5 0\n"
     ]
    },
    {
     "name": "stderr",
     "output_type": "stream",
     "text": [
      "coast [WARNING]: Fill/clip continent option (-G) may not work for this projection.\n",
      "coast [WARNING]: If the antipode (0/1) is in the ocean then chances are good it will work.\n",
      "coast [WARNING]: Otherwise, avoid projection center coordinates that are exact multiples of 224 degrees.\n",
      "plot [WARNING]: Ellipse/Rectangle angle = NaN near line 1. Skipped\n"
     ]
    },
    {
     "name": "stdout",
     "output_type": "stream",
     "text": [
      "GO.CHVG\n",
      "3\n",
      "0\n",
      "nan nan nan nan nan nan nan nan 3 0\n"
     ]
    },
    {
     "name": "stderr",
     "output_type": "stream",
     "text": [
      "coast [WARNING]: Fill/clip continent option (-G) may not work for this projection.\n",
      "coast [WARNING]: If the antipode (0/1) is in the ocean then chances are good it will work.\n",
      "coast [WARNING]: Otherwise, avoid projection center coordinates that are exact multiples of 224 degrees.\n",
      "plot [WARNING]: Ellipse/Rectangle angle = NaN near line 1. Skipped\n"
     ]
    },
    {
     "name": "stdout",
     "output_type": "stream",
     "text": [
      "GO.DGRG\n",
      "3\n",
      "0\n",
      "nan nan nan nan nan nan nan nan 3 0\n"
     ]
    },
    {
     "name": "stderr",
     "output_type": "stream",
     "text": [
      "coast [WARNING]: Fill/clip continent option (-G) may not work for this projection.\n",
      "coast [WARNING]: If the antipode (0/1) is in the ocean then chances are good it will work.\n",
      "coast [WARNING]: Otherwise, avoid projection center coordinates that are exact multiples of 224 degrees.\n",
      "plot [WARNING]: Ellipse/Rectangle angle = NaN near line 1. Skipped\n"
     ]
    },
    {
     "name": "stdout",
     "output_type": "stream",
     "text": [
      "GO.GUDG\n",
      "17\n",
      "1\n",
      "GUDG 20131123_074832 not used\n",
      "nan nan nan nan nan nan nan nan 16 0\n"
     ]
    },
    {
     "name": "stderr",
     "output_type": "stream",
     "text": [
      "coast [WARNING]: Fill/clip continent option (-G) may not work for this projection.\n",
      "coast [WARNING]: If the antipode (0/1) is in the ocean then chances are good it will work.\n",
      "coast [WARNING]: Otherwise, avoid projection center coordinates that are exact multiples of 224 degrees.\n",
      "plot [WARNING]: Ellipse/Rectangle angle = NaN near line 1. Skipped\n"
     ]
    },
    {
     "name": "stdout",
     "output_type": "stream",
     "text": [
      "GO.ONI\n",
      "75\n",
      "19\n",
      "41.5058214833 9.79332137319 1.03539661445 0.215988968625 49.1288538259 5.15919411833 1.08857068465 0.133424737189 56 18\n"
     ]
    },
    {
     "name": "stderr",
     "output_type": "stream",
     "text": [
      "coast [WARNING]: Fill/clip continent option (-G) may not work for this projection.\n",
      "coast [WARNING]: If the antipode (0/1) is in the ocean then chances are good it will work.\n",
      "coast [WARNING]: Otherwise, avoid projection center coordinates that are exact multiples of 224 degrees.\n"
     ]
    },
    {
     "name": "stdout",
     "output_type": "stream",
     "text": [
      "GO.SEAG\n",
      "1\n",
      "0\n",
      "nan nan nan nan nan nan nan nan 1 0\n"
     ]
    },
    {
     "name": "stderr",
     "output_type": "stream",
     "text": [
      "coast [WARNING]: Fill/clip continent option (-G) may not work for this projection.\n",
      "coast [WARNING]: If the antipode (0/1) is in the ocean then chances are good it will work.\n",
      "coast [WARNING]: Otherwise, avoid projection center coordinates that are exact multiples of 224 degrees.\n",
      "plot [WARNING]: Ellipse/Rectangle angle = NaN near line 1. Skipped\n"
     ]
    },
    {
     "name": "stdout",
     "output_type": "stream",
     "text": [
      "GO.TBLG\n",
      "48\n",
      "9\n",
      "TBLG 20130523_210746 not used\n",
      "46.0889540369 13.9581895204 1.03823751884 0.308975120358 38.9897305468 7.13253439354 1.06475324209 0.206329530121 39 8\n"
     ]
    },
    {
     "name": "stderr",
     "output_type": "stream",
     "text": [
      "coast [WARNING]: Fill/clip continent option (-G) may not work for this projection.\n",
      "coast [WARNING]: If the antipode (0/1) is in the ocean then chances are good it will work.\n",
      "coast [WARNING]: Otherwise, avoid projection center coordinates that are exact multiples of 224 degrees.\n"
     ]
    },
    {
     "name": "stdout",
     "output_type": "stream",
     "text": [
      "GO.TRLG\n",
      "24\n",
      "0\n",
      "nan nan nan nan nan nan nan nan 24 0\n"
     ]
    },
    {
     "name": "stderr",
     "output_type": "stream",
     "text": [
      "coast [WARNING]: Fill/clip continent option (-G) may not work for this projection.\n",
      "coast [WARNING]: If the antipode (0/1) is in the ocean then chances are good it will work.\n",
      "coast [WARNING]: Otherwise, avoid projection center coordinates that are exact multiples of 224 degrees.\n",
      "plot [WARNING]: Ellipse/Rectangle angle = NaN near line 1. Skipped\n"
     ]
    },
    {
     "name": "stdout",
     "output_type": "stream",
     "text": [
      "II.KIV\n",
      "235\n",
      "18\n",
      "KIV 20140326_032936 not used\n",
      "KIV 20170926_042000 not used\n",
      "KIV 20181223_230843 not used\n",
      "39.5990555358 11.4872173826 0.502905479977 0.246393429746 38.7598977893 8.20277942394 0.42826415449 0.188745860882 217 12\n"
     ]
    },
    {
     "name": "stderr",
     "output_type": "stream",
     "text": [
      "coast [WARNING]: Fill/clip continent option (-G) may not work for this projection.\n",
      "coast [WARNING]: If the antipode (0/1) is in the ocean then chances are good it will work.\n",
      "coast [WARNING]: Otherwise, avoid projection center coordinates that are exact multiples of 224 degrees.\n"
     ]
    },
    {
     "name": "stdout",
     "output_type": "stream",
     "text": [
      "IU.GNI\n",
      "140\n",
      "29\n",
      "GNI 20130514_003226 not used\n",
      "GNI 20200613_210830 not used\n",
      "GNI 20131123_074832 not used\n",
      "52.5840891771 8.47575365381 0.64445955555 0.186077833177 53.4667600676 7.63171671382 0.7093478915 0.175860854086 111 25\n"
     ]
    },
    {
     "name": "stderr",
     "output_type": "stream",
     "text": [
      "coast [WARNING]: Fill/clip continent option (-G) may not work for this projection.\n",
      "coast [WARNING]: If the antipode (0/1) is in the ocean then chances are good it will work.\n",
      "coast [WARNING]: Otherwise, avoid projection center coordinates that are exact multiples of 224 degrees.\n"
     ]
    },
    {
     "name": "stdout",
     "output_type": "stream",
     "text": [
      "TG.ABST\n",
      "31\n",
      "6\n",
      "31.5646237391 22.375 1.39653288147 0.450811767814 24.2207810315 12.8736346363 1.6840218674 0.356133752964 25 4\n"
     ]
    },
    {
     "name": "stderr",
     "output_type": "stream",
     "text": [
      "coast [WARNING]: Fill/clip continent option (-G) may not work for this projection.\n",
      "coast [WARNING]: If the antipode (0/1) is in the ocean then chances are good it will work.\n",
      "coast [WARNING]: Otherwise, avoid projection center coordinates that are exact multiples of 224 degrees.\n"
     ]
    },
    {
     "name": "stdout",
     "output_type": "stream",
     "text": [
      "TG.AMBR\n",
      "34\n",
      "6\n",
      "38.0984158278 16.8575527089 1.17261068863 0.355121262544 31.1626948264 9.91097525754 1.22721313995 0.302934719774 28 6\n"
     ]
    },
    {
     "name": "stderr",
     "output_type": "stream",
     "text": [
      "coast [WARNING]: Fill/clip continent option (-G) may not work for this projection.\n",
      "coast [WARNING]: If the antipode (0/1) is in the ocean then chances are good it will work.\n",
      "coast [WARNING]: Otherwise, avoid projection center coordinates that are exact multiples of 224 degrees.\n"
     ]
    },
    {
     "name": "stdout",
     "output_type": "stream",
     "text": [
      "TG.AZMN\n",
      "8\n",
      "1\n",
      "38.3 44.75 1.4 0.98 44.3 12.5 1.4 0.3 7 1\n"
     ]
    },
    {
     "name": "stderr",
     "output_type": "stream",
     "text": [
      "coast [WARNING]: Fill/clip continent option (-G) may not work for this projection.\n",
      "coast [WARNING]: If the antipode (0/1) is in the ocean then chances are good it will work.\n",
      "coast [WARNING]: Otherwise, avoid projection center coordinates that are exact multiples of 224 degrees.\n"
     ]
    },
    {
     "name": "stdout",
     "output_type": "stream",
     "text": [
      "TG.BATM\n",
      "9\n",
      "4\n",
      "27.0 44.75 2.2 0.98 42.0 8.5 2.5 0.5 5 1\n"
     ]
    },
    {
     "name": "stderr",
     "output_type": "stream",
     "text": [
      "coast [WARNING]: Fill/clip continent option (-G) may not work for this projection.\n",
      "coast [WARNING]: If the antipode (0/1) is in the ocean then chances are good it will work.\n",
      "coast [WARNING]: Otherwise, avoid projection center coordinates that are exact multiples of 224 degrees.\n"
     ]
    },
    {
     "name": "stdout",
     "output_type": "stream",
     "text": [
      "TG.BKRG\n",
      "12\n",
      "1\n",
      "nan nan nan nan nan nan nan nan 11 0\n"
     ]
    },
    {
     "name": "stderr",
     "output_type": "stream",
     "text": [
      "coast [WARNING]: Fill/clip continent option (-G) may not work for this projection.\n",
      "coast [WARNING]: If the antipode (0/1) is in the ocean then chances are good it will work.\n",
      "coast [WARNING]: Otherwise, avoid projection center coordinates that are exact multiples of 224 degrees.\n",
      "plot [WARNING]: Ellipse/Rectangle angle = NaN near line 1. Skipped\n"
     ]
    },
    {
     "name": "stdout",
     "output_type": "stream",
     "text": [
      "TG.BRNG\n",
      "6\n",
      "0\n",
      "nan nan nan nan nan nan nan nan 6 0\n"
     ]
    },
    {
     "name": "stderr",
     "output_type": "stream",
     "text": [
      "coast [WARNING]: Fill/clip continent option (-G) may not work for this projection.\n",
      "coast [WARNING]: If the antipode (0/1) is in the ocean then chances are good it will work.\n",
      "coast [WARNING]: Otherwise, avoid projection center coordinates that are exact multiples of 224 degrees.\n",
      "plot [WARNING]: Ellipse/Rectangle angle = NaN near line 1. Skipped\n"
     ]
    },
    {
     "name": "stdout",
     "output_type": "stream",
     "text": [
      "TG.BURN\n",
      "6\n",
      "0\n",
      "nan nan nan nan nan nan nan nan 6 0\n"
     ]
    },
    {
     "name": "stderr",
     "output_type": "stream",
     "text": [
      "coast [WARNING]: Fill/clip continent option (-G) may not work for this projection.\n",
      "coast [WARNING]: If the antipode (0/1) is in the ocean then chances are good it will work.\n",
      "coast [WARNING]: Otherwise, avoid projection center coordinates that are exact multiples of 224 degrees.\n",
      "plot [WARNING]: Ellipse/Rectangle angle = NaN near line 1. Skipped\n"
     ]
    },
    {
     "name": "stdout",
     "output_type": "stream",
     "text": [
      "TG.DDFL\n",
      "27\n",
      "3\n",
      "54.5428949357 22.226423214 1.00541148883 0.514587213211 57.4151502533 16.7982307269 1.00926528691 0.461254328495 24 3\n"
     ]
    },
    {
     "name": "stderr",
     "output_type": "stream",
     "text": [
      "coast [WARNING]: Fill/clip continent option (-G) may not work for this projection.\n",
      "coast [WARNING]: If the antipode (0/1) is in the ocean then chances are good it will work.\n",
      "coast [WARNING]: Otherwise, avoid projection center coordinates that are exact multiples of 224 degrees.\n"
     ]
    },
    {
     "name": "stdout",
     "output_type": "stream",
     "text": [
      "TG.DMNI\n",
      "19\n",
      "5\n",
      "45.1086140478 18.0536007489 0.975576821395 0.356320080826 43.0249652581 7.06328535456 1.1431097068 0.25125286068 14 5\n"
     ]
    },
    {
     "name": "stderr",
     "output_type": "stream",
     "text": [
      "coast [WARNING]: Fill/clip continent option (-G) may not work for this projection.\n",
      "coast [WARNING]: If the antipode (0/1) is in the ocean then chances are good it will work.\n",
      "coast [WARNING]: Otherwise, avoid projection center coordinates that are exact multiples of 224 degrees.\n"
     ]
    },
    {
     "name": "stdout",
     "output_type": "stream",
     "text": [
      "TG.GANZ\n",
      "8\n",
      "2\n",
      "26.7610412123 31.6430284581 1.04061493187 0.692964645563 36.176743203 22.8999181221 1.06200014921 0.505692594369 6 2\n"
     ]
    },
    {
     "name": "stderr",
     "output_type": "stream",
     "text": [
      "coast [WARNING]: Fill/clip continent option (-G) may not work for this projection.\n",
      "coast [WARNING]: If the antipode (0/1) is in the ocean then chances are good it will work.\n",
      "coast [WARNING]: Otherwise, avoid projection center coordinates that are exact multiples of 224 degrees.\n"
     ]
    },
    {
     "name": "stdout",
     "output_type": "stream",
     "text": [
      "TG.GUDA\n",
      "5\n",
      "0\n",
      "nan nan nan nan nan nan nan nan 5 0\n"
     ]
    },
    {
     "name": "stderr",
     "output_type": "stream",
     "text": [
      "coast [WARNING]: Fill/clip continent option (-G) may not work for this projection.\n",
      "coast [WARNING]: If the antipode (0/1) is in the ocean then chances are good it will work.\n",
      "coast [WARNING]: Otherwise, avoid projection center coordinates that are exact multiples of 224 degrees.\n",
      "plot [WARNING]: Ellipse/Rectangle angle = NaN near line 1. Skipped\n"
     ]
    },
    {
     "name": "stdout",
     "output_type": "stream",
     "text": [
      "TG.KHVA\n",
      "2\n",
      "0\n",
      "nan nan nan nan nan nan nan nan 2 0\n"
     ]
    },
    {
     "name": "stderr",
     "output_type": "stream",
     "text": [
      "coast [WARNING]: Fill/clip continent option (-G) may not work for this projection.\n",
      "coast [WARNING]: If the antipode (0/1) is in the ocean then chances are good it will work.\n",
      "coast [WARNING]: Otherwise, avoid projection center coordinates that are exact multiples of 224 degrees.\n",
      "plot [WARNING]: Ellipse/Rectangle angle = NaN near line 1. Skipped\n"
     ]
    },
    {
     "name": "stdout",
     "output_type": "stream",
     "text": [
      "TG.KZRT\n",
      "21\n",
      "0\n",
      "nan nan nan nan nan nan nan nan 21 0\n"
     ]
    },
    {
     "name": "stderr",
     "output_type": "stream",
     "text": [
      "coast [WARNING]: Fill/clip continent option (-G) may not work for this projection.\n",
      "coast [WARNING]: If the antipode (0/1) is in the ocean then chances are good it will work.\n",
      "coast [WARNING]: Otherwise, avoid projection center coordinates that are exact multiples of 224 degrees.\n",
      "plot [WARNING]: Ellipse/Rectangle angle = NaN near line 1. Skipped\n"
     ]
    },
    {
     "name": "stdout",
     "output_type": "stream",
     "text": [
      "TG.LGD\n",
      "11\n",
      "1\n",
      "30.29 44.75 0.4 0.98 41.29 44.75 0.4 0.98 10 1\n"
     ]
    },
    {
     "name": "stderr",
     "output_type": "stream",
     "text": [
      "coast [WARNING]: Fill/clip continent option (-G) may not work for this projection.\n",
      "coast [WARNING]: If the antipode (0/1) is in the ocean then chances are good it will work.\n",
      "coast [WARNING]: Otherwise, avoid projection center coordinates that are exact multiples of 224 degrees.\n"
     ]
    },
    {
     "name": "stdout",
     "output_type": "stream",
     "text": [
      "TG.TKBL\n",
      "26\n",
      "6\n",
      "48.7066343592 17.1799099403 0.983033084803 0.400083324655 53.0384628776 12.3249549244 0.92330637078 0.325768322585 20 6\n"
     ]
    },
    {
     "name": "stderr",
     "output_type": "stream",
     "text": [
      "coast [WARNING]: Fill/clip continent option (-G) may not work for this projection.\n",
      "coast [WARNING]: If the antipode (0/1) is in the ocean then chances are good it will work.\n",
      "coast [WARNING]: Otherwise, avoid projection center coordinates that are exact multiples of 224 degrees.\n"
     ]
    },
    {
     "name": "stdout",
     "output_type": "stream",
     "text": [
      "TG.TRLT\n",
      "30\n",
      "2\n",
      "49.5270988612 23.7203762618 0.768687309508 0.512445119013 27.435656334 10.6080747546 1.09523000145 0.346554469023 28 2\n"
     ]
    },
    {
     "name": "stderr",
     "output_type": "stream",
     "text": [
      "coast [WARNING]: Fill/clip continent option (-G) may not work for this projection.\n",
      "coast [WARNING]: If the antipode (0/1) is in the ocean then chances are good it will work.\n",
      "coast [WARNING]: Otherwise, avoid projection center coordinates that are exact multiples of 224 degrees.\n"
     ]
    },
    {
     "name": "stdout",
     "output_type": "stream",
     "text": [
      "TG.URAV\n",
      "31\n",
      "2\n",
      "75.689018646 31.6430284581 0.350202804963 0.692964645563 72.4749613729 12.33959582 0.698824522311 0.419076365356 29 2\n"
     ]
    },
    {
     "name": "stderr",
     "output_type": "stream",
     "text": [
      "coast [WARNING]: Fill/clip continent option (-G) may not work for this projection.\n",
      "coast [WARNING]: If the antipode (0/1) is in the ocean then chances are good it will work.\n",
      "coast [WARNING]: Otherwise, avoid projection center coordinates that are exact multiples of 224 degrees.\n"
     ]
    },
    {
     "name": "stdout",
     "output_type": "stream",
     "text": [
      "AB.GANJ\n",
      "7\n",
      "4\n",
      "-45.0432901188 19.8929753619 0.683633193589 0.43327964411 -45.7064504479 17.0347760111 0.657797841213 0.422470413165 3 4\n"
     ]
    },
    {
     "name": "stderr",
     "output_type": "stream",
     "text": [
      "coast [WARNING]: Fill/clip continent option (-G) may not work for this projection.\n",
      "coast [WARNING]: If the antipode (0/1) is in the ocean then chances are good it will work.\n",
      "coast [WARNING]: Otherwise, avoid projection center coordinates that are exact multiples of 224 degrees.\n"
     ]
    },
    {
     "name": "stdout",
     "output_type": "stream",
     "text": [
      "AB.QZX\n",
      "2\n",
      "1\n",
      "77.23 44.75 0.7 0.98 66.23 44.75 0.7 0.98 1 1\n"
     ]
    },
    {
     "name": "stderr",
     "output_type": "stream",
     "text": [
      "coast [WARNING]: Fill/clip continent option (-G) may not work for this projection.\n",
      "coast [WARNING]: If the antipode (0/1) is in the ocean then chances are good it will work.\n",
      "coast [WARNING]: Otherwise, avoid projection center coordinates that are exact multiples of 224 degrees.\n"
     ]
    },
    {
     "name": "stdout",
     "output_type": "stream",
     "text": [
      "AB.ZKT\n",
      "1\n",
      "0\n",
      "nan nan nan nan nan nan nan nan 1 0\n"
     ]
    },
    {
     "name": "stderr",
     "output_type": "stream",
     "text": [
      "coast [WARNING]: Fill/clip continent option (-G) may not work for this projection.\n",
      "coast [WARNING]: If the antipode (0/1) is in the ocean then chances are good it will work.\n",
      "coast [WARNING]: Otherwise, avoid projection center coordinates that are exact multiples of 224 degrees.\n",
      "plot [WARNING]: Ellipse/Rectangle angle = NaN near line 1. Skipped\n"
     ]
    },
    {
     "name": "stdout",
     "output_type": "stream",
     "text": [
      "KO.TASB\n",
      "60\n",
      "10\n",
      "73.9918780029 13.4405125104 0.588344850366 0.289405520949 73.1633084535 10.5226094027 0.531588713459 0.229099148303 50 9\n"
     ]
    },
    {
     "name": "stderr",
     "output_type": "stream",
     "text": [
      "coast [WARNING]: Fill/clip continent option (-G) may not work for this projection.\n",
      "coast [WARNING]: If the antipode (0/1) is in the ocean then chances are good it will work.\n",
      "coast [WARNING]: Otherwise, avoid projection center coordinates that are exact multiples of 224 degrees.\n"
     ]
    },
    {
     "name": "stdout",
     "output_type": "stream",
     "text": [
      "KO.BCA\n",
      "91\n",
      "19\n",
      "44.3123511629 10.6575742497 1.21863328763 0.240686056467 54.7840100761 4.09783140481 1.40557401514 0.124365054041 72 15\n"
     ]
    },
    {
     "name": "stderr",
     "output_type": "stream",
     "text": [
      "coast [WARNING]: Fill/clip continent option (-G) may not work for this projection.\n",
      "coast [WARNING]: If the antipode (0/1) is in the ocean then chances are good it will work.\n",
      "coast [WARNING]: Otherwise, avoid projection center coordinates that are exact multiples of 224 degrees.\n"
     ]
    }
   ],
   "source": [
    "allSTA = {'Station':[],\n",
    "         'RCphi':[],'RCdphi':[],\n",
    "         'RCdt':[],'RCddt':[],\n",
    "         'SCphi':[],'SCdphi':[],\n",
    "         'SCdt':[],'SCddt':[],\n",
    "         'SKSnonNull':[], 'SKSNull':[],\n",
    "         'SKKSnonNull':[], 'SKKSNull':[],\n",
    "         'nonNull':[],'Null':[]}\n",
    "\n",
    "\n",
    "for STApath in glob.glob(f'{PKLpath}/*.pkl'):\n",
    "    STApkl = pickle.load(open(STApath, \"rb\"))\n",
    "    values = [value for keys, value in STApkl.items() ][0]\n",
    "\n",
    "    NET = values['network']; STA = values['station']\n",
    "    print(f'{NET}.{STA}')    \n",
    "    if not os.path.isdir(f'{SAVEpath}/{NET}.{STA}'):\n",
    "        os.mkdir(f'{SAVEpath}/{NET}.{STA}')\n",
    "    allSTA['Station'].append(f'{NET}.{STA}')\n",
    "    stlat = values['latitude']; stlon = values['longitude']\n",
    "\n",
    "    newdf = pd.DataFrame()\n",
    "    for csvpath in glob.glob(f'{Path}/*classify/{NET}*{STA}*result.csv'):\n",
    "        phase = csvpath.rsplit('_')[4]\n",
    "        df = pd.read_csv(csvpath)\n",
    "        df = df[df['Pick']==True]\n",
    "        newdf = newdf.append(df)\n",
    "        if phase == 'SKS':\n",
    "            if len(df) !=0:\n",
    "                allSTA['SKSnonNull'].append(len( df[df['Null']==False][df['Quality']!='Poor'] ))\n",
    "                allSTA['SKSNull'].append(len( df[df['Null']==True] ))\n",
    "            else:\n",
    "                allSTA['SKSnonNull'].append(0)\n",
    "                allSTA['SKSNull'].append(0)  \n",
    "        elif phase == 'SKKS':\n",
    "            if len(df) !=0:\n",
    "                allSTA['SKKSnonNull'].append(len( df[df['Null']==False][df['Quality']!='Poor'] ))\n",
    "                allSTA['SKKSNull'].append(len( df[df['Null']==True] ))            \n",
    "            else:\n",
    "                allSTA['SKKSnonNull'].append(0)\n",
    "                allSTA['SKKSNull'].append(0)             \n",
    "\n",
    "\n",
    "    print(len(newdf))\n",
    "    meanphiRC, stdphiRC, meandtRC, stddtRC, meanphiSC, stdphiSC, meandtSC, stddtSC, noNull, noNonNull = plot_nonnull_average(NET, STA, newdf, stlat, stlon, SAVEpath, YearRange, ver)\n",
    "    print(meanphiRC, stdphiRC, meandtRC, stddtRC, meanphiSC, stdphiSC, meandtSC, stddtSC, noNull, noNonNull)\n",
    "    if np.isnan(meanphiRC) == False:\n",
    "        allSTA['RCphi'].append(round(meanphiRC)); allSTA['RCdphi'].append(round(stdphiRC))\n",
    "        allSTA['RCdt'].append(float(round(meandtRC,2))); allSTA['RCddt'].append( float(round(stddtRC,2)))\n",
    "        allSTA['SCphi'].append(round(meanphiSC)); allSTA['SCdphi'].append(round(stdphiSC))\n",
    "        allSTA['SCdt'].append(float(round(meandtSC,2))); allSTA['SCddt'].append( float(round(stddtSC,2)))\n",
    "        allSTA['Null'].append(noNull); allSTA['nonNull'].append(noNonNull)\n",
    "    else: \n",
    "        allSTA['RCphi'].append(meanphiRC); allSTA['RCdphi'].append(stdphiRC)\n",
    "        allSTA['RCdt'].append(meandtRC); allSTA['RCddt'].append(stddtRC)\n",
    "        allSTA['SCphi'].append(meanphiSC); allSTA['SCdphi'].append(stdphiSC)\n",
    "        allSTA['SCdt'].append(meandtSC); allSTA['SCddt'].append(stddtSC)\n",
    "        allSTA['Null'].append(noNull); allSTA['nonNull'].append(noNonNull)\n",
    "\n",
    "    plot_null_PCA09(NET, STA, newdf, stlat, stlon, SAVEpath, YearRange, meanphiSC, meandtSC, ver)\n",
    "#     plot_null_PCA_angle_small(NET, STA, newdf, stlat, stlon, SAVEpath, YearRange, ver)\n",
    "#     plot_null_PCA_angle_large(NET, STA, newdf, stlat, stlon, SAVEpath, YearRange, ver)  \n",
    "#     plot_null_angle(NET, STA, newdf, stlat, stlon, SAVEpath, YearRange, ver)  \n",
    "# stadf = pd.DataFrame(allSTA)\n",
    "# stadf.to_csv(f'{SAVEpath}/Station_SKS_{YearRange}average_v3.csv',index=False)\n"
   ]
  },
  {
   "cell_type": "code",
   "execution_count": 25,
   "id": "fa342f98-b12e-4645-be41-7bda4ad743d5",
   "metadata": {},
   "outputs": [],
   "source": [
    "stadf = pd.DataFrame(allSTA)\n",
    "stadf.to_csv(f'{SAVEpath}/Station_SK(K)S_2010-2020average_v{ver}.csv',index=False)"
   ]
  },
  {
   "cell_type": "code",
   "execution_count": 27,
   "id": "d940959b-7820-4201-ad63-17b8eb4846af",
   "metadata": {},
   "outputs": [
    {
     "data": {
      "text/plain": [
       "'/Volumes/home/Research/STEP/05_Station_result_statistics'"
      ]
     },
     "execution_count": 27,
     "metadata": {},
     "output_type": "execute_result"
    }
   ],
   "source": [
    "SAVEpath"
   ]
  },
  {
   "cell_type": "code",
   "execution_count": 28,
   "id": "cf646a0c-04ba-41f9-b842-996faddc2288",
   "metadata": {},
   "outputs": [],
   "source": []
  },
  {
   "cell_type": "code",
   "execution_count": null,
   "id": "89454c3b-6ac7-4b1b-b742-b139a21b226c",
   "metadata": {},
   "outputs": [],
   "source": []
  }
 ],
 "metadata": {
  "kernelspec": {
   "display_name": "Python 3 (ipykernel)",
   "language": "python",
   "name": "python3"
  },
  "language_info": {
   "codemirror_mode": {
    "name": "ipython",
    "version": 3
   },
   "file_extension": ".py",
   "mimetype": "text/x-python",
   "name": "python",
   "nbconvert_exporter": "python",
   "pygments_lexer": "ipython3",
   "version": "3.9.6"
  }
 },
 "nbformat": 4,
 "nbformat_minor": 5
}
