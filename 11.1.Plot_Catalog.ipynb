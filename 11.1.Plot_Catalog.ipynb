{
 "cells": [
  {
   "cell_type": "code",
   "execution_count": 1,
   "id": "3c4113e4-c23c-47d5-92ad-fb3a9749e46d",
   "metadata": {},
   "outputs": [],
   "source": [
    "import numpy as np\n",
    "from stdb import load_db \n",
    "import matplotlib.pyplot as plt\n",
    "import pandas as pd\n",
    "import pickle\n",
    "import glob, os\n",
    "\n",
    "import warnings  \n",
    "from obspy.geodetics.base import gps2dist_azimuth\n",
    "from obspy.core.event.catalog import read_events\n",
    "warnings.filterwarnings(\"ignore\")  \n",
    "from  PlotCatalog_1 import plot_nonnull_average, plot_null_PCA09, plot_null_PCA_angle_small,plot_null_PCA_angle_large, plot_null_angle\n",
    "                \n"
   ]
  },
  {
   "cell_type": "code",
   "execution_count": 2,
   "id": "5e3e8737-032a-443b-a6a3-316adb18f5d2",
   "metadata": {},
   "outputs": [],
   "source": [
    "PKLpath = '/Volumes/home/Research/STEP/01_Split'\n",
    "Path = '/Volumes/home/Research/STEP/02_Station_result_csv'\n",
    "# MAG = 6\n",
    "\n",
    "SAVEpath = '/Volumes/home/Research/STEP/05_Station_result_statistics'\n",
    "YearRange= 'SKSvsSKKS'\n",
    "ver= 1"
   ]
  },
  {
   "cell_type": "code",
   "execution_count": 3,
   "id": "2cd97c5a-23fc-4bd3-b1e8-1628bbe571bf",
   "metadata": {
    "tags": []
   },
   "outputs": [
    {
     "name": "stdout",
     "output_type": "stream",
     "text": [
      "AM.ALAV\n",
      "43\n",
      "2\n",
      "24.8965138173 31.6430284581 0.99234713372 0.665281895139 33.3860157366 23.9798092153 1.19647622069 0.638905313799 41 2\n"
     ]
    },
    {
     "name": "stderr",
     "output_type": "stream",
     "text": [
      "coast [WARNING]: Fill/clip continent option (-G) may not work for this projection.\n",
      "coast [WARNING]: If the antipode (0/1) is in the ocean then chances are good it will work.\n",
      "coast [WARNING]: Otherwise, avoid projection center coordinates that are exact multiples of 224 degrees.\n"
     ]
    },
    {
     "name": "stdout",
     "output_type": "stream",
     "text": [
      "AM.ARZA\n",
      "56\n",
      "1\n",
      "40.74 44.75 1.2 0.98 63.74 10.0 1.4 0.35 55 1\n"
     ]
    },
    {
     "name": "stderr",
     "output_type": "stream",
     "text": [
      "coast [WARNING]: Fill/clip continent option (-G) may not work for this projection.\n",
      "coast [WARNING]: If the antipode (0/1) is in the ocean then chances are good it will work.\n",
      "coast [WARNING]: Otherwise, avoid projection center coordinates that are exact multiples of 224 degrees.\n"
     ]
    },
    {
     "name": "stdout",
     "output_type": "stream",
     "text": [
      "AM.BAUR\n",
      "33\n",
      "5\n",
      "57.9392349857 18.1926496146 1.01806323753 0.37016752964 61.5562338043 10.6504694732 0.835398683144 0.273298371748 28 5\n"
     ]
    },
    {
     "name": "stderr",
     "output_type": "stream",
     "text": [
      "coast [WARNING]: Fill/clip continent option (-G) may not work for this projection.\n",
      "coast [WARNING]: If the antipode (0/1) is in the ocean then chances are good it will work.\n",
      "coast [WARNING]: Otherwise, avoid projection center coordinates that are exact multiples of 224 degrees.\n"
     ]
    },
    {
     "name": "stdout",
     "output_type": "stream",
     "text": [
      "AM.BYUR\n",
      "32\n",
      "3\n",
      "66.5120938885 31.6430284581 0.365664244985 0.692964645563 27.1473615317 12.6305680791 0.382906474376 0.383046994506 29 2\n"
     ]
    },
    {
     "name": "stderr",
     "output_type": "stream",
     "text": [
      "coast [WARNING]: Fill/clip continent option (-G) may not work for this projection.\n",
      "coast [WARNING]: If the antipode (0/1) is in the ocean then chances are good it will work.\n",
      "coast [WARNING]: Otherwise, avoid projection center coordinates that are exact multiples of 224 degrees.\n"
     ]
    },
    {
     "name": "stdout",
     "output_type": "stream",
     "text": [
      "AM.GERK\n",
      "36\n",
      "0\n",
      "nan nan nan nan nan nan nan nan 36 0\n"
     ]
    },
    {
     "name": "stderr",
     "output_type": "stream",
     "text": [
      "coast [WARNING]: Fill/clip continent option (-G) may not work for this projection.\n",
      "coast [WARNING]: If the antipode (0/1) is in the ocean then chances are good it will work.\n",
      "coast [WARNING]: Otherwise, avoid projection center coordinates that are exact multiples of 224 degrees.\n",
      "plot [WARNING]: Ellipse/Rectangle angle = NaN near line 1. Skipped\n"
     ]
    },
    {
     "name": "stdout",
     "output_type": "stream",
     "text": [
      "AM.KECH\n",
      "7\n",
      "0\n",
      "nan nan nan nan nan nan nan nan 7 0\n"
     ]
    },
    {
     "name": "stderr",
     "output_type": "stream",
     "text": [
      "coast [WARNING]: Fill/clip continent option (-G) may not work for this projection.\n",
      "coast [WARNING]: If the antipode (0/1) is in the ocean then chances are good it will work.\n",
      "coast [WARNING]: Otherwise, avoid projection center coordinates that are exact multiples of 224 degrees.\n",
      "plot [WARNING]: Ellipse/Rectangle angle = NaN near line 1. Skipped\n"
     ]
    },
    {
     "name": "stdout",
     "output_type": "stream",
     "text": [
      "AM.LICH\n",
      "31\n",
      "0\n",
      "nan nan nan nan nan nan nan nan 31 0\n"
     ]
    },
    {
     "name": "stderr",
     "output_type": "stream",
     "text": [
      "coast [WARNING]: Fill/clip continent option (-G) may not work for this projection.\n",
      "coast [WARNING]: If the antipode (0/1) is in the ocean then chances are good it will work.\n",
      "coast [WARNING]: Otherwise, avoid projection center coordinates that are exact multiples of 224 degrees.\n",
      "plot [WARNING]: Ellipse/Rectangle angle = NaN near line 1. Skipped\n"
     ]
    },
    {
     "name": "stdout",
     "output_type": "stream",
     "text": [
      "AM.MAGY\n",
      "37\n",
      "2\n",
      "66.6087879421 24.308241915 0.947220183624 0.56189411814 68.7551787582 10.3274512829 0.729343228901 0.243823706805 35 2\n"
     ]
    },
    {
     "name": "stderr",
     "output_type": "stream",
     "text": [
      "coast [WARNING]: Fill/clip continent option (-G) may not work for this projection.\n",
      "coast [WARNING]: If the antipode (0/1) is in the ocean then chances are good it will work.\n",
      "coast [WARNING]: Otherwise, avoid projection center coordinates that are exact multiples of 224 degrees.\n"
     ]
    },
    {
     "name": "stdout",
     "output_type": "stream",
     "text": [
      "AM.NAVR\n",
      "27\n",
      "1\n",
      "39.0 44.75 0.4 0.98 54.0 44.75 0.5 0.98 26 1\n"
     ]
    },
    {
     "name": "stderr",
     "output_type": "stream",
     "text": [
      "coast [WARNING]: Fill/clip continent option (-G) may not work for this projection.\n",
      "coast [WARNING]: If the antipode (0/1) is in the ocean then chances are good it will work.\n",
      "coast [WARNING]: Otherwise, avoid projection center coordinates that are exact multiples of 224 degrees.\n"
     ]
    },
    {
     "name": "stdout",
     "output_type": "stream",
     "text": [
      "AM.SHEN\n",
      "28\n",
      "1\n",
      "43.71 44.75 1.2 0.98 27.71 44.75 1.3 0.98 27 1\n"
     ]
    },
    {
     "name": "stderr",
     "output_type": "stream",
     "text": [
      "coast [WARNING]: Fill/clip continent option (-G) may not work for this projection.\n",
      "coast [WARNING]: If the antipode (0/1) is in the ocean then chances are good it will work.\n",
      "coast [WARNING]: Otherwise, avoid projection center coordinates that are exact multiples of 224 degrees.\n"
     ]
    },
    {
     "name": "stdout",
     "output_type": "stream",
     "text": [
      "AM.TSAP\n",
      "18\n",
      "2\n",
      "-32.5761221034 31.6430284581 0.109737472316 0.692964645563 -22.905679458 23.8910286509 0.195173199271 0.517034815075 16 2\n"
     ]
    },
    {
     "name": "stderr",
     "output_type": "stream",
     "text": [
      "coast [WARNING]: Fill/clip continent option (-G) may not work for this projection.\n",
      "coast [WARNING]: If the antipode (0/1) is in the ocean then chances are good it will work.\n",
      "coast [WARNING]: Otherwise, avoid projection center coordinates that are exact multiples of 224 degrees.\n"
     ]
    },
    {
     "name": "stdout",
     "output_type": "stream",
     "text": [
      "AM.VAND\n",
      "28\n",
      "9\n",
      "VAND 20160729_211826 not used\n",
      "VAND 20180211_231415 not used\n",
      "42.1943403533 15.8251769181 0.484240268122 0.347656879872 33.0314061693 11.7141223856 0.408400103639 0.270713343383 19 7\n"
     ]
    },
    {
     "name": "stderr",
     "output_type": "stream",
     "text": [
      "coast [WARNING]: Fill/clip continent option (-G) may not work for this projection.\n",
      "coast [WARNING]: If the antipode (0/1) is in the ocean then chances are good it will work.\n",
      "coast [WARNING]: Otherwise, avoid projection center coordinates that are exact multiples of 224 degrees.\n"
     ]
    },
    {
     "name": "stdout",
     "output_type": "stream",
     "text": [
      "AM.ZARN\n",
      "49\n",
      "10\n",
      "ZARN 20180211_231415 not used\n",
      "49.7750795087 13.7144321118 1.33425720038 0.310429809565 36.5831852235 4.79333706794 1.50958194926 0.183390563458 39 9\n"
     ]
    },
    {
     "name": "stderr",
     "output_type": "stream",
     "text": [
      "coast [WARNING]: Fill/clip continent option (-G) may not work for this projection.\n",
      "coast [WARNING]: If the antipode (0/1) is in the ocean then chances are good it will work.\n",
      "coast [WARNING]: Otherwise, avoid projection center coordinates that are exact multiples of 224 degrees.\n"
     ]
    },
    {
     "name": "stdout",
     "output_type": "stream",
     "text": [
      "GO.AKH\n",
      "84\n",
      "10\n",
      "37.9835012592 13.5385791352 0.988752855965 0.298221394269 39.0217968598 7.6083013873 1.03307517205 0.18998420987 17 10\n"
     ]
    },
    {
     "name": "stderr",
     "output_type": "stream",
     "text": [
      "coast [WARNING]: Fill/clip continent option (-G) may not work for this projection.\n",
      "coast [WARNING]: If the antipode (0/1) is in the ocean then chances are good it will work.\n",
      "coast [WARNING]: Otherwise, avoid projection center coordinates that are exact multiples of 224 degrees.\n"
     ]
    },
    {
     "name": "stdout",
     "output_type": "stream",
     "text": [
      "GO.BGD\n",
      "4\n",
      "0\n",
      "nan nan nan nan nan nan nan nan 4 0\n"
     ]
    },
    {
     "name": "stderr",
     "output_type": "stream",
     "text": [
      "coast [WARNING]: Fill/clip continent option (-G) may not work for this projection.\n",
      "coast [WARNING]: If the antipode (0/1) is in the ocean then chances are good it will work.\n",
      "coast [WARNING]: Otherwise, avoid projection center coordinates that are exact multiples of 224 degrees.\n",
      "plot [WARNING]: Ellipse/Rectangle angle = NaN near line 1. Skipped\n"
     ]
    },
    {
     "name": "stdout",
     "output_type": "stream",
     "text": [
      "GO.CHVG\n",
      "3\n",
      "0\n",
      "nan nan nan nan nan nan nan nan 3 0\n"
     ]
    },
    {
     "name": "stderr",
     "output_type": "stream",
     "text": [
      "coast [WARNING]: Fill/clip continent option (-G) may not work for this projection.\n",
      "coast [WARNING]: If the antipode (0/1) is in the ocean then chances are good it will work.\n",
      "coast [WARNING]: Otherwise, avoid projection center coordinates that are exact multiples of 224 degrees.\n",
      "plot [WARNING]: Ellipse/Rectangle angle = NaN near line 1. Skipped\n"
     ]
    },
    {
     "name": "stdout",
     "output_type": "stream",
     "text": [
      "GO.DGRG\n",
      "3\n",
      "0\n",
      "nan nan nan nan nan nan nan nan 3 0\n"
     ]
    },
    {
     "name": "stderr",
     "output_type": "stream",
     "text": [
      "coast [WARNING]: Fill/clip continent option (-G) may not work for this projection.\n",
      "coast [WARNING]: If the antipode (0/1) is in the ocean then chances are good it will work.\n",
      "coast [WARNING]: Otherwise, avoid projection center coordinates that are exact multiples of 224 degrees.\n",
      "plot [WARNING]: Ellipse/Rectangle angle = NaN near line 1. Skipped\n"
     ]
    },
    {
     "name": "stdout",
     "output_type": "stream",
     "text": [
      "GO.GUDG\n",
      "12\n",
      "1\n",
      "GUDG 20131123_074832 not used\n",
      "nan nan nan nan nan nan nan nan 11 0\n"
     ]
    },
    {
     "name": "stderr",
     "output_type": "stream",
     "text": [
      "coast [WARNING]: Fill/clip continent option (-G) may not work for this projection.\n",
      "coast [WARNING]: If the antipode (0/1) is in the ocean then chances are good it will work.\n",
      "coast [WARNING]: Otherwise, avoid projection center coordinates that are exact multiples of 224 degrees.\n",
      "plot [WARNING]: Ellipse/Rectangle angle = NaN near line 1. Skipped\n"
     ]
    },
    {
     "name": "stdout",
     "output_type": "stream",
     "text": [
      "GO.ONI\n",
      "66\n",
      "16\n",
      "43.2940078563 10.5754358657 1.02127785014 0.228618473116 51.3487959759 5.65786838035 1.06262018773 0.14028291726 50 16\n"
     ]
    },
    {
     "name": "stderr",
     "output_type": "stream",
     "text": [
      "coast [WARNING]: Fill/clip continent option (-G) may not work for this projection.\n",
      "coast [WARNING]: If the antipode (0/1) is in the ocean then chances are good it will work.\n",
      "coast [WARNING]: Otherwise, avoid projection center coordinates that are exact multiples of 224 degrees.\n"
     ]
    },
    {
     "name": "stdout",
     "output_type": "stream",
     "text": [
      "GO.SEAG\n",
      "1\n",
      "0\n",
      "nan nan nan nan nan nan nan nan 1 0\n"
     ]
    },
    {
     "name": "stderr",
     "output_type": "stream",
     "text": [
      "coast [WARNING]: Fill/clip continent option (-G) may not work for this projection.\n",
      "coast [WARNING]: If the antipode (0/1) is in the ocean then chances are good it will work.\n",
      "coast [WARNING]: Otherwise, avoid projection center coordinates that are exact multiples of 224 degrees.\n",
      "plot [WARNING]: Ellipse/Rectangle angle = NaN near line 1. Skipped\n"
     ]
    },
    {
     "name": "stdout",
     "output_type": "stream",
     "text": [
      "GO.TBLG\n",
      "42\n",
      "8\n",
      "TBLG 20130523_210746 not used\n",
      "46.0683486669 14.6152178169 1.00084453276 0.32417556342 35.2474668159 7.92004045547 1.04180990129 0.219675084744 34 7\n"
     ]
    },
    {
     "name": "stderr",
     "output_type": "stream",
     "text": [
      "coast [WARNING]: Fill/clip continent option (-G) may not work for this projection.\n",
      "coast [WARNING]: If the antipode (0/1) is in the ocean then chances are good it will work.\n",
      "coast [WARNING]: Otherwise, avoid projection center coordinates that are exact multiples of 224 degrees.\n"
     ]
    },
    {
     "name": "stdout",
     "output_type": "stream",
     "text": [
      "GO.TRLG\n",
      "18\n",
      "0\n",
      "nan nan nan nan nan nan nan nan 18 0\n"
     ]
    },
    {
     "name": "stderr",
     "output_type": "stream",
     "text": [
      "coast [WARNING]: Fill/clip continent option (-G) may not work for this projection.\n",
      "coast [WARNING]: If the antipode (0/1) is in the ocean then chances are good it will work.\n",
      "coast [WARNING]: Otherwise, avoid projection center coordinates that are exact multiples of 224 degrees.\n",
      "plot [WARNING]: Ellipse/Rectangle angle = NaN near line 1. Skipped\n"
     ]
    },
    {
     "name": "stdout",
     "output_type": "stream",
     "text": [
      "II.KIV\n",
      "214\n",
      "14\n",
      "KIV 20140326_032936 not used\n",
      "KIV 20170926_042000 not used\n",
      "KIV 20181223_230843 not used\n",
      "35.1054146279 13.4788357192 0.717206521319 0.287580369872 36.530133014 9.26612708261 0.669239045603 0.210311350615 200 9\n"
     ]
    },
    {
     "name": "stderr",
     "output_type": "stream",
     "text": [
      "coast [WARNING]: Fill/clip continent option (-G) may not work for this projection.\n",
      "coast [WARNING]: If the antipode (0/1) is in the ocean then chances are good it will work.\n",
      "coast [WARNING]: Otherwise, avoid projection center coordinates that are exact multiples of 224 degrees.\n"
     ]
    },
    {
     "name": "stdout",
     "output_type": "stream",
     "text": [
      "IU.GNI\n",
      "131\n",
      "26\n",
      "GNI 20130514_003226 not used\n",
      "GNI 20200613_210830 not used\n",
      "GNI 20131123_074832 not used\n",
      "51.7843666068 8.7922756742 0.675194635855 0.193073832318 53.6420048772 7.82570198329 0.763693796204 0.181407019203 105 23\n"
     ]
    },
    {
     "name": "stderr",
     "output_type": "stream",
     "text": [
      "coast [WARNING]: Fill/clip continent option (-G) may not work for this projection.\n",
      "coast [WARNING]: If the antipode (0/1) is in the ocean then chances are good it will work.\n",
      "coast [WARNING]: Otherwise, avoid projection center coordinates that are exact multiples of 224 degrees.\n"
     ]
    },
    {
     "name": "stdout",
     "output_type": "stream",
     "text": [
      "TG.ABST\n",
      "28\n",
      "5\n",
      "31.5646237391 22.375 1.39653288147 0.450811767814 24.2207810315 12.8736346363 1.6840218674 0.356133752964 23 4\n"
     ]
    },
    {
     "name": "stderr",
     "output_type": "stream",
     "text": [
      "coast [WARNING]: Fill/clip continent option (-G) may not work for this projection.\n",
      "coast [WARNING]: If the antipode (0/1) is in the ocean then chances are good it will work.\n",
      "coast [WARNING]: Otherwise, avoid projection center coordinates that are exact multiples of 224 degrees.\n"
     ]
    },
    {
     "name": "stdout",
     "output_type": "stream",
     "text": [
      "TG.AMBR\n",
      "32\n",
      "6\n",
      "38.0984158278 16.8575527089 1.17261068863 0.355121262544 31.1626948264 9.91097525754 1.22721313995 0.302934719774 26 6\n"
     ]
    },
    {
     "name": "stderr",
     "output_type": "stream",
     "text": [
      "coast [WARNING]: Fill/clip continent option (-G) may not work for this projection.\n",
      "coast [WARNING]: If the antipode (0/1) is in the ocean then chances are good it will work.\n",
      "coast [WARNING]: Otherwise, avoid projection center coordinates that are exact multiples of 224 degrees.\n"
     ]
    },
    {
     "name": "stdout",
     "output_type": "stream",
     "text": [
      "TG.AZMN\n",
      "7\n",
      "1\n",
      "38.3 44.75 1.4 0.98 44.3 12.5 1.4 0.3 6 1\n"
     ]
    },
    {
     "name": "stderr",
     "output_type": "stream",
     "text": [
      "coast [WARNING]: Fill/clip continent option (-G) may not work for this projection.\n",
      "coast [WARNING]: If the antipode (0/1) is in the ocean then chances are good it will work.\n",
      "coast [WARNING]: Otherwise, avoid projection center coordinates that are exact multiples of 224 degrees.\n"
     ]
    },
    {
     "name": "stdout",
     "output_type": "stream",
     "text": [
      "TG.BATM\n",
      "8\n",
      "3\n",
      "27.0 44.75 2.2 0.98 42.0 8.5 2.5 0.5 5 1\n"
     ]
    },
    {
     "name": "stderr",
     "output_type": "stream",
     "text": [
      "coast [WARNING]: Fill/clip continent option (-G) may not work for this projection.\n",
      "coast [WARNING]: If the antipode (0/1) is in the ocean then chances are good it will work.\n",
      "coast [WARNING]: Otherwise, avoid projection center coordinates that are exact multiples of 224 degrees.\n"
     ]
    },
    {
     "name": "stdout",
     "output_type": "stream",
     "text": [
      "TG.BKRG\n",
      "9\n",
      "0\n",
      "nan nan nan nan nan nan nan nan 9 0\n"
     ]
    },
    {
     "name": "stderr",
     "output_type": "stream",
     "text": [
      "coast [WARNING]: Fill/clip continent option (-G) may not work for this projection.\n",
      "coast [WARNING]: If the antipode (0/1) is in the ocean then chances are good it will work.\n",
      "coast [WARNING]: Otherwise, avoid projection center coordinates that are exact multiples of 224 degrees.\n",
      "plot [WARNING]: Ellipse/Rectangle angle = NaN near line 1. Skipped\n"
     ]
    },
    {
     "name": "stdout",
     "output_type": "stream",
     "text": [
      "TG.BRNG\n",
      "6\n",
      "0\n",
      "nan nan nan nan nan nan nan nan 6 0\n"
     ]
    },
    {
     "name": "stderr",
     "output_type": "stream",
     "text": [
      "coast [WARNING]: Fill/clip continent option (-G) may not work for this projection.\n",
      "coast [WARNING]: If the antipode (0/1) is in the ocean then chances are good it will work.\n",
      "coast [WARNING]: Otherwise, avoid projection center coordinates that are exact multiples of 224 degrees.\n",
      "plot [WARNING]: Ellipse/Rectangle angle = NaN near line 1. Skipped\n"
     ]
    },
    {
     "name": "stdout",
     "output_type": "stream",
     "text": [
      "TG.BURN\n",
      "4\n",
      "0\n",
      "nan nan nan nan nan nan nan nan 4 0\n"
     ]
    },
    {
     "name": "stderr",
     "output_type": "stream",
     "text": [
      "coast [WARNING]: Fill/clip continent option (-G) may not work for this projection.\n",
      "coast [WARNING]: If the antipode (0/1) is in the ocean then chances are good it will work.\n",
      "coast [WARNING]: Otherwise, avoid projection center coordinates that are exact multiples of 224 degrees.\n",
      "plot [WARNING]: Ellipse/Rectangle angle = NaN near line 1. Skipped\n"
     ]
    },
    {
     "name": "stdout",
     "output_type": "stream",
     "text": [
      "TG.DDFL\n",
      "25\n",
      "3\n",
      "54.5428949357 22.226423214 1.00541148883 0.514587213211 57.4151502533 16.7982307269 1.00926528691 0.461254328495 22 3\n"
     ]
    },
    {
     "name": "stderr",
     "output_type": "stream",
     "text": [
      "coast [WARNING]: Fill/clip continent option (-G) may not work for this projection.\n",
      "coast [WARNING]: If the antipode (0/1) is in the ocean then chances are good it will work.\n",
      "coast [WARNING]: Otherwise, avoid projection center coordinates that are exact multiples of 224 degrees.\n"
     ]
    },
    {
     "name": "stdout",
     "output_type": "stream",
     "text": [
      "TG.DMNI\n",
      "19\n",
      "5\n",
      "45.1086140478 18.0536007489 0.975576821395 0.356320080826 43.0249652581 7.06328535456 1.1431097068 0.25125286068 14 5\n"
     ]
    },
    {
     "name": "stderr",
     "output_type": "stream",
     "text": [
      "coast [WARNING]: Fill/clip continent option (-G) may not work for this projection.\n",
      "coast [WARNING]: If the antipode (0/1) is in the ocean then chances are good it will work.\n",
      "coast [WARNING]: Otherwise, avoid projection center coordinates that are exact multiples of 224 degrees.\n"
     ]
    },
    {
     "name": "stdout",
     "output_type": "stream",
     "text": [
      "TG.GANZ\n",
      "8\n",
      "2\n",
      "26.7610412123 31.6430284581 1.04061493187 0.692964645563 36.176743203 22.8999181221 1.06200014921 0.505692594369 6 2\n"
     ]
    },
    {
     "name": "stderr",
     "output_type": "stream",
     "text": [
      "coast [WARNING]: Fill/clip continent option (-G) may not work for this projection.\n",
      "coast [WARNING]: If the antipode (0/1) is in the ocean then chances are good it will work.\n",
      "coast [WARNING]: Otherwise, avoid projection center coordinates that are exact multiples of 224 degrees.\n"
     ]
    },
    {
     "name": "stdout",
     "output_type": "stream",
     "text": [
      "TG.GUDA\n",
      "5\n",
      "0\n",
      "nan nan nan nan nan nan nan nan 5 0\n"
     ]
    },
    {
     "name": "stderr",
     "output_type": "stream",
     "text": [
      "coast [WARNING]: Fill/clip continent option (-G) may not work for this projection.\n",
      "coast [WARNING]: If the antipode (0/1) is in the ocean then chances are good it will work.\n",
      "coast [WARNING]: Otherwise, avoid projection center coordinates that are exact multiples of 224 degrees.\n",
      "plot [WARNING]: Ellipse/Rectangle angle = NaN near line 1. Skipped\n"
     ]
    },
    {
     "name": "stdout",
     "output_type": "stream",
     "text": [
      "TG.KHVA\n",
      "2\n",
      "0\n",
      "nan nan nan nan nan nan nan nan 2 0\n"
     ]
    },
    {
     "name": "stderr",
     "output_type": "stream",
     "text": [
      "coast [WARNING]: Fill/clip continent option (-G) may not work for this projection.\n",
      "coast [WARNING]: If the antipode (0/1) is in the ocean then chances are good it will work.\n",
      "coast [WARNING]: Otherwise, avoid projection center coordinates that are exact multiples of 224 degrees.\n",
      "plot [WARNING]: Ellipse/Rectangle angle = NaN near line 1. Skipped\n"
     ]
    },
    {
     "name": "stdout",
     "output_type": "stream",
     "text": [
      "TG.KZRT\n",
      "20\n",
      "0\n",
      "nan nan nan nan nan nan nan nan 20 0\n"
     ]
    },
    {
     "name": "stderr",
     "output_type": "stream",
     "text": [
      "coast [WARNING]: Fill/clip continent option (-G) may not work for this projection.\n",
      "coast [WARNING]: If the antipode (0/1) is in the ocean then chances are good it will work.\n",
      "coast [WARNING]: Otherwise, avoid projection center coordinates that are exact multiples of 224 degrees.\n",
      "plot [WARNING]: Ellipse/Rectangle angle = NaN near line 1. Skipped\n"
     ]
    },
    {
     "name": "stdout",
     "output_type": "stream",
     "text": [
      "TG.LGD\n",
      "11\n",
      "1\n",
      "30.29 44.75 0.4 0.98 41.29 44.75 0.4 0.98 10 1\n"
     ]
    },
    {
     "name": "stderr",
     "output_type": "stream",
     "text": [
      "coast [WARNING]: Fill/clip continent option (-G) may not work for this projection.\n",
      "coast [WARNING]: If the antipode (0/1) is in the ocean then chances are good it will work.\n",
      "coast [WARNING]: Otherwise, avoid projection center coordinates that are exact multiples of 224 degrees.\n"
     ]
    },
    {
     "name": "stdout",
     "output_type": "stream",
     "text": [
      "TG.TKBL\n",
      "24\n",
      "6\n",
      "48.7066343592 17.1799099403 0.983033084803 0.400083324655 53.0384628776 12.3249549244 0.92330637078 0.325768322585 18 6\n"
     ]
    },
    {
     "name": "stderr",
     "output_type": "stream",
     "text": [
      "coast [WARNING]: Fill/clip continent option (-G) may not work for this projection.\n",
      "coast [WARNING]: If the antipode (0/1) is in the ocean then chances are good it will work.\n",
      "coast [WARNING]: Otherwise, avoid projection center coordinates that are exact multiples of 224 degrees.\n"
     ]
    },
    {
     "name": "stdout",
     "output_type": "stream",
     "text": [
      "TG.TRLT\n",
      "29\n",
      "2\n",
      "49.5270988612 23.7203762618 0.768687309508 0.512445119013 27.435656334 10.6080747546 1.09523000145 0.346554469023 27 2\n"
     ]
    },
    {
     "name": "stderr",
     "output_type": "stream",
     "text": [
      "coast [WARNING]: Fill/clip continent option (-G) may not work for this projection.\n",
      "coast [WARNING]: If the antipode (0/1) is in the ocean then chances are good it will work.\n",
      "coast [WARNING]: Otherwise, avoid projection center coordinates that are exact multiples of 224 degrees.\n"
     ]
    },
    {
     "name": "stdout",
     "output_type": "stream",
     "text": [
      "TG.URAV\n",
      "29\n",
      "2\n",
      "75.689018646 31.6430284581 0.350202804963 0.692964645563 72.4749613729 12.33959582 0.698824522311 0.419076365356 27 2\n"
     ]
    },
    {
     "name": "stderr",
     "output_type": "stream",
     "text": [
      "coast [WARNING]: Fill/clip continent option (-G) may not work for this projection.\n",
      "coast [WARNING]: If the antipode (0/1) is in the ocean then chances are good it will work.\n",
      "coast [WARNING]: Otherwise, avoid projection center coordinates that are exact multiples of 224 degrees.\n"
     ]
    },
    {
     "name": "stdout",
     "output_type": "stream",
     "text": [
      "AB.GANJ\n",
      "6\n",
      "3\n",
      "-42.438172968 21.9320288366 0.654250251314 0.476480149989 -42.419193127 17.128193133 0.624259596449 0.458899650129 3 3\n"
     ]
    },
    {
     "name": "stderr",
     "output_type": "stream",
     "text": [
      "coast [WARNING]: Fill/clip continent option (-G) may not work for this projection.\n",
      "coast [WARNING]: If the antipode (0/1) is in the ocean then chances are good it will work.\n",
      "coast [WARNING]: Otherwise, avoid projection center coordinates that are exact multiples of 224 degrees.\n"
     ]
    },
    {
     "name": "stdout",
     "output_type": "stream",
     "text": [
      "AB.QZX\n",
      "2\n",
      "1\n",
      "77.23 44.75 0.7 0.98 66.23 44.75 0.7 0.98 1 1\n"
     ]
    },
    {
     "name": "stderr",
     "output_type": "stream",
     "text": [
      "coast [WARNING]: Fill/clip continent option (-G) may not work for this projection.\n",
      "coast [WARNING]: If the antipode (0/1) is in the ocean then chances are good it will work.\n",
      "coast [WARNING]: Otherwise, avoid projection center coordinates that are exact multiples of 224 degrees.\n"
     ]
    },
    {
     "name": "stdout",
     "output_type": "stream",
     "text": [
      "AB.ZKT\n",
      "1\n",
      "0\n",
      "nan nan nan nan nan nan nan nan 1 0\n"
     ]
    },
    {
     "name": "stderr",
     "output_type": "stream",
     "text": [
      "coast [WARNING]: Fill/clip continent option (-G) may not work for this projection.\n",
      "coast [WARNING]: If the antipode (0/1) is in the ocean then chances are good it will work.\n",
      "coast [WARNING]: Otherwise, avoid projection center coordinates that are exact multiples of 224 degrees.\n",
      "plot [WARNING]: Ellipse/Rectangle angle = NaN near line 1. Skipped\n"
     ]
    },
    {
     "name": "stdout",
     "output_type": "stream",
     "text": [
      "KO.TASB\n",
      "58\n",
      "10\n",
      "73.9918780029 13.4405125104 0.588344850366 0.289405520949 73.1633084535 10.5226094027 0.531588713459 0.229099148303 48 9\n"
     ]
    },
    {
     "name": "stderr",
     "output_type": "stream",
     "text": [
      "coast [WARNING]: Fill/clip continent option (-G) may not work for this projection.\n",
      "coast [WARNING]: If the antipode (0/1) is in the ocean then chances are good it will work.\n",
      "coast [WARNING]: Otherwise, avoid projection center coordinates that are exact multiples of 224 degrees.\n"
     ]
    },
    {
     "name": "stdout",
     "output_type": "stream",
     "text": [
      "KO.BCA\n",
      "89\n",
      "19\n",
      "44.3123511629 10.6575742497 1.21863328763 0.240686056467 54.7840100761 4.09783140481 1.40557401514 0.124365054041 70 15\n"
     ]
    },
    {
     "name": "stderr",
     "output_type": "stream",
     "text": [
      "coast [WARNING]: Fill/clip continent option (-G) may not work for this projection.\n",
      "coast [WARNING]: If the antipode (0/1) is in the ocean then chances are good it will work.\n",
      "coast [WARNING]: Otherwise, avoid projection center coordinates that are exact multiples of 224 degrees.\n"
     ]
    }
   ],
   "source": [
    "allSTA = {'Station':[],\n",
    "         'RCphi':[],'RCdphi':[],\n",
    "         'RCdt':[],'RCddt':[],\n",
    "         'SCphi':[],'SCdphi':[],\n",
    "         'SCdt':[],'SCddt':[],\n",
    "         'nonNull':[],'Null':[]}\n",
    "\n",
    "for STApath in glob.glob(f'{PKLpath}/*.pkl'):\n",
    "    STApkl = pickle.load(open(STApath, \"rb\"))\n",
    "    values = [value for keys, value in STApkl.items() ][0]\n",
    "\n",
    "    NET = values['network']; STA = values['station']\n",
    "    print(f'{NET}.{STA}')    \n",
    "    if not os.path.isdir(f'{SAVEpath}/{NET}.{STA}'):\n",
    "        os.mkdir(f'{SAVEpath}/{NET}.{STA}')\n",
    "    allSTA['Station'].append(f'{NET}.{STA}')\n",
    "    stlat = values['latitude']; stlon = values['longitude']\n",
    "\n",
    "    newdf = pd.DataFrame()\n",
    "    for csvpath in glob.glob(f'{Path}/*classify/{NET}*{STA}*.csv'):\n",
    "        df = pd.read_csv(csvpath)\n",
    "        df = df[df['SNRQ']>=5][df['Pick']==True]\n",
    "        newdf = newdf.append(df)\n",
    "\n",
    "    print(len(newdf))\n",
    "    meanphiRC, stdphiRC, meandtRC, stddtRC, meanphiSC, stdphiSC, meandtSC, stddtSC, noNull, noNonNull = plot_nonnull_average(NET, STA, newdf, stlat, stlon, SAVEpath, YearRange, ver)\n",
    "    print(meanphiRC, stdphiRC, meandtRC, stddtRC, meanphiSC, stdphiSC, meandtSC, stddtSC, noNull, noNonNull)\n",
    "    if np.isnan(meanphiRC) == False:\n",
    "        allSTA['RCphi'].append(round(meanphiRC)); allSTA['RCdphi'].append(round(stdphiRC))\n",
    "        allSTA['RCdt'].append(float(round(meandtRC,2))); allSTA['RCddt'].append( float(round(stddtRC,2)))\n",
    "        allSTA['SCphi'].append(round(meanphiSC)); allSTA['SCdphi'].append(round(stdphiSC))\n",
    "        allSTA['SCdt'].append(float(round(meandtSC,2))); allSTA['SCddt'].append( float(round(stddtSC,2)))\n",
    "        allSTA['Null'].append(noNull); allSTA['nonNull'].append(noNonNull)\n",
    "#         print(meanphiSC)\n",
    "    else: \n",
    "        allSTA['RCphi'].append(meanphiRC); allSTA['RCdphi'].append(stdphiRC)\n",
    "        allSTA['RCdt'].append(meandtRC); allSTA['RCddt'].append(stddtRC)\n",
    "        allSTA['SCphi'].append(meanphiSC); allSTA['SCdphi'].append(stdphiSC)\n",
    "        allSTA['SCdt'].append(meandtSC); allSTA['SCddt'].append(stddtSC)\n",
    "        allSTA['Null'].append(noNull); allSTA['nonNull'].append(noNonNull)\n",
    "\n",
    "    plot_null_PCA09(NET, STA, newdf, stlat, stlon, SAVEpath, YearRange, meanphiSC, meandtSC, ver)\n",
    "#     plot_null_PCA_angle_small(NET, STA, newdf, stlat, stlon, SAVEpath, YearRange, ver)\n",
    "#     plot_null_PCA_angle_large(NET, STA, newdf, stlat, stlon, SAVEpath, YearRange, ver)  \n",
    "#     plot_null_angle(NET, STA, newdf, stlat, stlon, SAVEpath, YearRange, ver)  \n",
    "# stadf = pd.DataFrame(allSTA)\n",
    "# stadf.to_csv(f'{SAVEpath}/Station_SKS_{YearRange}average_v3.csv',index=False)\n"
   ]
  },
  {
   "cell_type": "code",
   "execution_count": 4,
   "id": "fa342f98-b12e-4645-be41-7bda4ad743d5",
   "metadata": {},
   "outputs": [],
   "source": [
    "stadf = pd.DataFrame(allSTA)\n",
    "# stadf.to_csv(f'{SAVEpath}/Station_SKS_{YearRange}average_v3.csv',index=False)"
   ]
  },
  {
   "cell_type": "code",
   "execution_count": null,
   "id": "cf646a0c-04ba-41f9-b842-996faddc2288",
   "metadata": {},
   "outputs": [],
   "source": []
  }
 ],
 "metadata": {
  "kernelspec": {
   "display_name": "Python 3 (ipykernel)",
   "language": "python",
   "name": "python3"
  },
  "language_info": {
   "codemirror_mode": {
    "name": "ipython",
    "version": 3
   },
   "file_extension": ".py",
   "mimetype": "text/x-python",
   "name": "python",
   "nbconvert_exporter": "python",
   "pygments_lexer": "ipython3",
   "version": "3.9.6"
  }
 },
 "nbformat": 4,
 "nbformat_minor": 5
}
