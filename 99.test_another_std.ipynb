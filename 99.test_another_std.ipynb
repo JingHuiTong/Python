{
 "cells": [
  {
   "cell_type": "code",
   "execution_count": 2,
   "metadata": {},
   "outputs": [],
   "source": [
    "\n",
    "import numpy as np\n",
    "from stdb import load_db \n",
    "import pygmt\n",
    "import pandas as pd\n",
    "import pickle\n",
    "import glob, os\n",
    "import warnings  \n",
    "from obspy.core.event.catalog import read_events\n",
    "warnings.filterwarnings(\"ignore\")  \n"
   ]
  },
  {
   "cell_type": "code",
   "execution_count": 34,
   "metadata": {},
   "outputs": [],
   "source": [
    "PKLpath = '/Volumes/home/Research/STEP/01_Split'\n",
    "Path = '/Volumes/home/Research/STEP/02_Station_result_csv/2010-2015_Mw7_100-140degree_SKS'\n",
    "\n",
    "phase = 'SKS'\n",
    "Mag = 7\n",
    "DATApath = f'/Volumes/home/Research/STEP/01_Split/DATA_{phase}_Mw*'\n"
   ]
  },
  {
   "cell_type": "code",
   "execution_count": 35,
   "metadata": {},
   "outputs": [],
   "source": [
    "def Calc_rho(RCdt, SCdt):\n",
    "    rho = RCdt/SCdt \n",
    "    return rho\n",
    "def Calc_Phi(RCPhi, SCPhi):\n",
    "    Phi = max (abs(RCPhi-SCPhi), abs(SCPhi-RCPhi))\n",
    "    if Phi > 90: Phi = 180 - Phi\n",
    "    return Phi\n",
    "def RCcoeff(DATApath,NET,STA,event):\n",
    "    RCfile = glob.glob(f'{DATApath}/{NET}.{STA}/{event}/RC_res_manual.pkl')[0]\n",
    "    RCpkl  = pickle.load(open(RCfile, \"rb\"))\n",
    "    coeff  = abs(RCpkl.errc)\n",
    "    return coeff\n"
   ]
  },
  {
   "cell_type": "code",
   "execution_count": 38,
   "metadata": {},
   "outputs": [
    {
     "name": "stdout",
     "output_type": "stream",
     "text": [
      "GNI 20110824_174611 Fair\n"
     ]
    }
   ],
   "source": [
    "for CSVpath in sorted(glob.glob(f'{Path}/I*.csv')):\n",
    "    filename = CSVpath.rsplit('/')[-1]\n",
    "    netsta = filename.rsplit('_')[0]\n",
    "    NET = netsta.rsplit('.')[0] ; STA = netsta.rsplit('.')[1]\n",
    "    STApkl = pickle.load(open(f'{PKLpath}/{NET}_{STA}.pkl', \"rb\"))\n",
    "    values = [value for keys, value in STApkl.items() ][0]\n",
    "    \n",
    "    st_lat = values['latitude']; st_lon = values['longitude']\n",
    "    df = pd.read_csv(CSVpath)\n",
    "    \n",
    "    df = df[df['Phase']==phase][df['SNRQ']>=5][df['Pick']==True]\n",
    "    \n",
    "    \n",
    "    for i in range(len(df)):\n",
    "        evtTime = df[\"Event\"].values[i]\n",
    "        RCPhi = df['RCPhi'].values[i]\n",
    "        RCdt  = df['RCdt'].values[i]\n",
    "        SCPhi = df['SCPhi'].values[i]\n",
    "        SCdt  = df['SCdt'].values[i]\n",
    "        \n",
    "        rho = Calc_rho(RCdt, SCdt)\n",
    "        phi = Calc_Phi(RCPhi, SCPhi)\n",
    "        if 25 < phi < 68 or df[\"CpH\"].values[i] >= 0.77: pass\n",
    "        else: \n",
    "            if 0.8 < rho < 1.1 and phi < 8:   ## non-null good condition \n",
    "                print(f'{STA} {evtTime} Good')\n",
    "            elif 0.7 <= rho < 1.2 and phi <=25: ## non-null FAIR condition \n",
    "                print(f'{STA} {evtTime} Fair')\n",
    "                "
   ]
  },
  {
   "cell_type": "code",
   "execution_count": 41,
   "metadata": {},
   "outputs": [
    {
     "name": "stdout",
     "output_type": "stream",
     "text": [
      "GNI 20110101_095658 Poor\n",
      "GNI 20110824_174611 Good\n"
     ]
    }
   ],
   "source": [
    "for CSVpath in sorted(glob.glob(f'{Path}/I*.csv')):\n",
    "    filename = CSVpath.rsplit('/')[-1]\n",
    "    netsta = filename.rsplit('_')[0]\n",
    "    NET = netsta.rsplit('.')[0] ; STA = netsta.rsplit('.')[1]\n",
    "    STApkl = pickle.load(open(f'{PKLpath}/{NET}_{STA}.pkl', \"rb\"))\n",
    "    values = [value for keys, value in STApkl.items() ][0]\n",
    "    \n",
    "    st_lat = values['latitude']; st_lon = values['longitude']\n",
    "    df = pd.read_csv(CSVpath)\n",
    "    \n",
    "    df = df[df['Phase']==phase][df['SNRQ']>=5][df['Pick']==True]\n",
    "    \n",
    "    \n",
    "    for i in range(len(df)):\n",
    "        evtTime = df[\"Event\"].values[i]\n",
    "        RCPhi = df['RCPhi'].values[i]\n",
    "        RCdt  = df['RCdt'].values[i]\n",
    "        RCPhi_std = df['RCPhi_std'].values[i]\n",
    "        RCdt_std  = df['RCdt_std'].values[i]\n",
    "        SCPhi = df['SCPhi'].values[i]\n",
    "        SCdt  = df['SCdt'].values[i]\n",
    "        SCPhi_std = df['SCPhi_std'].values[i]\n",
    "        SCdt_std  = df['SCdt_std'].values[i]   \n",
    "        CpH = df['CpH'].values[i]   \n",
    "\n",
    "        rho = Calc_rho(RCdt, SCdt)\n",
    "        phi = Calc_Phi(RCPhi, SCPhi)\n",
    "        coeff = RCcoeff(DATApath,NET,STA,evtTime)\n",
    "\n",
    "        if CpH <=0.76 :\n",
    "            if (SCPhi_std <20 and SCdt_std<0.5 and coeff >=0.8):\n",
    "                print(f'{STA} {evtTime} Good')\n",
    "            elif phi <10:\n",
    "                print(f'{STA} {evtTime} Good')\n",
    "            elif (SCPhi_std <=30 and SCdt_std<=1.0 and coeff >=0.8) :\n",
    "                print(f'{STA} {evtTime} Fair')\n",
    "            elif (10 <= phi <25): \n",
    "                print(f'{STA} {evtTime} Fair')\n",
    "            else:\n",
    "                # pass\n",
    "                print(f'{STA} {evtTime} Poor')\n",
    "        else:\n",
    "            if CpH >=0.9:\n",
    "                pass\n",
    "                "
   ]
  },
  {
   "cell_type": "code",
   "execution_count": null,
   "metadata": {},
   "outputs": [],
   "source": []
  }
 ],
 "metadata": {
  "interpreter": {
   "hash": "34c7fae736fe20b15c24d2eb785ff40b610e0707db5318a1e0b0a0a10fe7a5c5"
  },
  "kernelspec": {
   "display_name": "Python 3.9.6 64-bit ('split': conda)",
   "language": "python",
   "name": "python3"
  },
  "language_info": {
   "codemirror_mode": {
    "name": "ipython",
    "version": 3
   },
   "file_extension": ".py",
   "mimetype": "text/x-python",
   "name": "python",
   "nbconvert_exporter": "python",
   "pygments_lexer": "ipython3",
   "version": "3.9.6"
  },
  "orig_nbformat": 4
 },
 "nbformat": 4,
 "nbformat_minor": 2
}
