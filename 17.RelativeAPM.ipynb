{
 "cells": [
  {
   "cell_type": "code",
   "execution_count": 23,
   "id": "f7274a54-fb32-4095-b762-ccfeceb332eb",
   "metadata": {},
   "outputs": [],
   "source": [
    "import pandas as pd\n",
    "import glob, os\n",
    "import numpy as np\n",
    "import matplotlib.pyplot as plt\n",
    "from matplotlib.ticker import (MultipleLocator, FormatStrFormatter,\n",
    "                               AutoMinorLocator)"
   ]
  },
  {
   "cell_type": "code",
   "execution_count": 2,
   "id": "aa3071e1-ac1a-4b59-8a90-d4f3bfd5be77",
   "metadata": {},
   "outputs": [],
   "source": [
    "DATApath = '/Volumes/home/Research/STEP/02_Station_result_csv/2010-2020_SKS_classify'"
   ]
  },
  {
   "cell_type": "code",
   "execution_count": 6,
   "id": "21cfbc6c-adc1-4b9f-8ce8-1ff368dd84a8",
   "metadata": {},
   "outputs": [],
   "source": [
    "APMphi = 80 "
   ]
  },
  {
   "cell_type": "code",
   "execution_count": 15,
   "id": "b5829274-06c0-4089-b36f-633cc3fb0663",
   "metadata": {},
   "outputs": [
    {
     "name": "stderr",
     "output_type": "stream",
     "text": [
      "/var/folders/sp/pnngww1n0q31w2plgbk53rc00000gn/T/ipykernel_41238/648998035.py:4: UserWarning: Boolean Series key will be reindexed to match DataFrame index.\n",
      "  dff = df[df['Pick']==True][df['Null']==False][df['Quality']!='Poor']\n"
     ]
    }
   ],
   "source": [
    "newdf=pd.DataFrame()\n",
    "for csvpath in glob.glob(f'{DATApath}/*csv'):\n",
    "    df = pd.read_csv(csvpath)\n",
    "    dff = df[df['Pick']==True][df['Null']==False][df['Quality']!='Poor']\n",
    "    \n",
    "    newdf=pd.concat([newdf,dff])\n",
    "\n",
    "    \n",
    "        "
   ]
  },
  {
   "cell_type": "code",
   "execution_count": 44,
   "id": "7da2d76a-0c2a-4fe5-a585-eeb508c84008",
   "metadata": {},
   "outputs": [
    {
     "data": {
      "text/plain": [
       "Text(75, 37.0, 'APM\\n(NNR-GSRM)')"
      ]
     },
     "execution_count": 44,
     "metadata": {},
     "output_type": "execute_result"
    },
    {
     "data": {
      "image/png": "[encoded data removed]",
      "text/plain": [
       "<Figure size 720x720 with 1 Axes>"
      ]
     },
     "metadata": {
      "needs_background": "light"
     },
     "output_type": "display_data"
    }
   ],
   "source": [
    "plt.figure(figsize=(10,10))\n",
    "bin_phi=np.arange(-90,90+1,10)\n",
    "ax1 = plt.subplot(211)\n",
    "ax1.vlines(x=65,ymin=0,ymax=max(max(nS),max(nR)),color='grey',linestyle='--')\n",
    "nS,binsS,jR=plt.hist(newdf['SCPhi'],bins=bin_phi, width=10, alpha=0.7,color='red')\n",
    "nR,binsS,jR=plt.hist(newdf['RCPhi'],bins=bin_phi, width=10, alpha=0.3,color='blue')\n",
    "\n",
    "plt.xlabel('Fast Direction (°)',fontsize=15)\n",
    "ax1.xaxis.set_major_locator(MultipleLocator(10))\n",
    "ax1.yaxis.set_major_locator(MultipleLocator(5))\n",
    "ax1.set_xlim(-90,90)\n",
    "\n",
    "ax1.text(x=65+10,y=max(max(nS),max(nR))-5,s='APM\\n(NNR-GSRM)',ha='center',color='black',fontsize=10)"
   ]
  },
  {
   "cell_type": "code",
   "execution_count": null,
   "id": "e1b238a8-334e-49bc-9d6d-ae502b337467",
   "metadata": {},
   "outputs": [],
   "source": []
  }
 ],
 "metadata": {
  "kernelspec": {
   "display_name": "Python 3 (ipykernel)",
   "language": "python",
   "name": "python3"
  },
  "language_info": {
   "codemirror_mode": {
    "name": "ipython",
    "version": 3
   },
   "file_extension": ".py",
   "mimetype": "text/x-python",
   "name": "python",
   "nbconvert_exporter": "python",
   "pygments_lexer": "ipython3",
   "version": "3.9.6"
  }
 },
 "nbformat": 4,
 "nbformat_minor": 5
}
