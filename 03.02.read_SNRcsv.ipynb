{
 "cells": [
  {
   "cell_type": "code",
   "execution_count": 15,
   "id": "9f477e93-e89a-4e05-8abb-cc095add996f",
   "metadata": {},
   "outputs": [],
   "source": [
    "import pandas as pd\n",
    "import glob,os"
   ]
  },
  {
   "cell_type": "code",
   "execution_count": 16,
   "id": "8051422b-8ea4-48f8-84a5-e92ac75d67c1",
   "metadata": {},
   "outputs": [],
   "source": [
    "# csvpath = '/Volumes/home/Research/Progress/01_GO_phase_SNR_0.04-0.125.csv'\n",
    "csvpath = '/Volumes/home/Research/Progress/01_AMTG_phase_SNR_0.04-0.125.csv'"
   ]
  },
  {
   "cell_type": "code",
   "execution_count": 17,
   "id": "1af6a50f-2e8d-49a0-96c1-a4ee9b2f9ae3",
   "metadata": {},
   "outputs": [],
   "source": [
    "df = pd.read_csv(csvpath)"
   ]
  },
  {
   "cell_type": "code",
   "execution_count": 66,
   "id": "937a0632-d295-44cb-a687-516b45655ffe",
   "metadata": {},
   "outputs": [],
   "source": [
    "magdf = df[df['Magnitude']<7.0]\n",
    "magdf = magdf[magdf['Dist']>=100.0]\n",
    "magdf = magdf[magdf['Magnitude']>=6.0]"
   ]
  },
  {
   "cell_type": "code",
   "execution_count": 67,
   "id": "b94a5a9d-ed8c-493d-bd88-25140c267653",
   "metadata": {},
   "outputs": [],
   "source": [
    "SNR_SKS = magdf[magdf['SKS_SNR']>5]"
   ]
  },
  {
   "cell_type": "code",
   "execution_count": 73,
   "id": "b71c7386-1132-4a99-bd50-55a522271b2f",
   "metadata": {},
   "outputs": [
    {
     "name": "stdout",
     "output_type": "stream",
     "text": [
      " All SKS: 4066\n",
      " SNR>5 : 421\n",
      " Ratio: 0.10354156419085096\n"
     ]
    }
   ],
   "source": [
    "print(f' All SKS: {len(magdf)}')\n",
    "print(f' SNR>5 : {len(SNR_SKS)}')\n",
    "\n",
    "print(f' Ratio: {len(SNR_SKS)/len(magdf)}')"
   ]
  },
  {
   "cell_type": "code",
   "execution_count": null,
   "id": "20de7034-3e29-41ab-9475-77279d20cd1e",
   "metadata": {},
   "outputs": [],
   "source": []
  }
 ],
 "metadata": {
  "kernelspec": {
   "display_name": "Python 3",
   "language": "python",
   "name": "python3"
  },
  "language_info": {
   "codemirror_mode": {
    "name": "ipython",
    "version": 3
   },
   "file_extension": ".py",
   "mimetype": "text/x-python",
   "name": "python",
   "nbconvert_exporter": "python",
   "pygments_lexer": "ipython3",
   "version": "3.8.6"
  }
 },
 "nbformat": 4,
 "nbformat_minor": 5
}
